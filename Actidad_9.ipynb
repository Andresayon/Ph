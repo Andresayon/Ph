{
  "nbformat": 4,
  "nbformat_minor": 0,
  "metadata": {
    "colab": {
      "provenance": [],
      "authorship_tag": "ABX9TyMzIUfb4ZZq5kfFH4zd+wTB",
      "include_colab_link": true
    },
    "kernelspec": {
      "name": "python3",
      "display_name": "Python 3"
    },
    "language_info": {
      "name": "python"
    }
  },
  "cells": [
    {
      "cell_type": "markdown",
      "metadata": {
        "id": "view-in-github",
        "colab_type": "text"
      },
      "source": [
        "<a href=\"https://colab.research.google.com/github/Andresayon/Ph/blob/main/Actidad_9.ipynb\" target=\"_parent\"><img src=\"https://colab.research.google.com/assets/colab-badge.svg\" alt=\"Open In Colab\"/></a>"
      ]
    },
    {
      "cell_type": "markdown",
      "source": [],
      "metadata": {
        "id": "MP5K7KXsl83s"
      }
    },
    {
      "cell_type": "code",
      "source": [
        "import random"
      ],
      "metadata": {
        "id": "NdaVxKfYooIh"
      },
      "execution_count": null,
      "outputs": []
    },
    {
      "cell_type": "code",
      "source": [
        "def es_numero(cadena):\n",
        "    try:\n",
        "        float(cadena)\n",
        "        return True\n",
        "    except ValueError:\n",
        "        return False"
      ],
      "metadata": {
        "id": "FMaCXQ9bGHUm"
      },
      "execution_count": 145,
      "outputs": []
    },
    {
      "cell_type": "code",
      "source": [
        "def crear_diccionario_alumno(matricula, nombre, appaterno, apmaterno, edad, sexo):\n",
        "    diccionario_alumno = {\n",
        "        'Matricula': matricula,\n",
        "        'Nombre': nombre,\n",
        "        'Apellido paterno': appaterno,\n",
        "        'Apellido materno': apmaterno,\n",
        "        'Edad': edad,\n",
        "        'Sexo': sexo\n",
        "    }\n",
        "    return diccionario_alumno\n",
        "\n",
        "matricula = random.randint(30000, 39999)\n",
        "nombres = [\"Andres\", \"Isela\", \"Elena\", \"Jesus\"]\n",
        "appaternos = [\"Perez\", \"Hernandez\", \"Dimas\", \"Arenas\"]\n",
        "apmaternos = [\"Tello\", \"Rodriguez\", \"Alvarez\", \"Lopez\"]\n",
        "edades = [20, 28, 21, 19]\n",
        "sexos = [\"Masculino\", \"Femenino\", \"Masculino\", \"Femenino\"]\n",
        "\n",
        "apellidos = list(zip(appaternos, apmaternos))\n",
        "random.shuffle(apellidos)\n",
        "appaternos, apmaternos = zip(*apellidos)\n",
        "\n",
        "id_alumno = random.randint(30000, 39999)\n",
        "nombre = random.choice(nombres)\n",
        "edad = random.choice(edades)\n",
        "sexo = random.choice(sexos)"
      ],
      "metadata": {
        "id": "RBAwyR9tpYrj"
      },
      "execution_count": 151,
      "outputs": []
    },
    {
      "cell_type": "code",
      "source": [
        "while True:\n",
        "    print(\"\\nDigite una opcion\")\n",
        "    print(\"1. Crear Diccionario\")\n",
        "    print(\"2. Imprimir Diccionario\")\n",
        "    print(\"0. Salir\")\n",
        "\n",
        "    es_numero = input(\"Digite una opcion: \")\n",
        "    print(\"\\n\")\n",
        "\n",
        "    if es_numero == '1':\n",
        "        matricula = random.randint(30000, 39999)\n",
        "        nombre = random.choice(nombres)\n",
        "        edad = random.choice(edades)\n",
        "        sexo = random.choice(sexos)\n",
        "        appaterno = random.choice(appaternos)\n",
        "        apmaterno = random.choice(apmaternos)\n",
        "\n",
        "        alumno_aleatorio = crear_diccionario_alumno(matricula, nombre, appaterno, apmaterno, edad, sexo)\n",
        "        print(\"Datos del alumno creado\")\n",
        "    elif es_numero == '2':\n",
        "        if 'alumno_aleatorio' in locals():\n",
        "            print(\"\\tDatos del alumno\")\n",
        "            print(\"\\n\")\n",
        "\n",
        "            for key, value in alumno_aleatorio.items():\n",
        "                print(f\"{key}: {value}\")\n",
        "        else:\n",
        "          print(\"Aun no se ha creado el diccionario del alumno. Por favor, seleccione la opcion 1 primero.\")\n",
        "\n",
        "    elif es_numero == '0':\n",
        "        print(\"Ha salido de la ejecucion.\")\n",
        "        break\n",
        "    else:\n",
        "        print(\"Opcion no valida, debe ser el número 1, 2 o 0\")"
      ],
      "metadata": {
        "colab": {
          "base_uri": "https://localhost:8080/"
        },
        "id": "XVHXA898HsPu",
        "outputId": "d6fa348e-1359-4318-ef8c-c6c7d32c3cac"
      },
      "execution_count": null,
      "outputs": [
        {
          "output_type": "stream",
          "name": "stdout",
          "text": [
            "\n",
            "Digite una opcion\n",
            "1. Crear Diccionario\n",
            "2. Imprimir Diccionario\n",
            "0. Salir\n",
            "Digite una opcion: 1\n",
            "\n",
            "\n",
            "Datos del alumno creado\n",
            "\n",
            "Digite una opcion\n",
            "1. Crear Diccionario\n",
            "2. Imprimir Diccionario\n",
            "0. Salir\n",
            "Digite una opcion: 2\n",
            "\n",
            "\n",
            "\tDatos del alumno\n",
            "\n",
            "\n",
            "Matricula: 32264\n",
            "Nombre: Elena\n",
            "Apellido paterno: Perez\n",
            "Apellido materno: Tello\n",
            "Edad: 19\n",
            "Sexo: Masculino\n",
            "\n",
            "Digite una opcion\n",
            "1. Crear Diccionario\n",
            "2. Imprimir Diccionario\n",
            "0. Salir\n",
            "Digite una opcion: 1\n",
            "\n",
            "\n",
            "Datos del alumno creado\n",
            "\n",
            "Digite una opcion\n",
            "1. Crear Diccionario\n",
            "2. Imprimir Diccionario\n",
            "0. Salir\n",
            "Digite una opcion: 2\n",
            "\n",
            "\n",
            "\tDatos del alumno\n",
            "\n",
            "\n",
            "Matricula: 31538\n",
            "Nombre: Andres\n",
            "Apellido paterno: Hernandez\n",
            "Apellido materno: Lopez\n",
            "Edad: 28\n",
            "Sexo: Femenino\n",
            "\n",
            "Digite una opcion\n",
            "1. Crear Diccionario\n",
            "2. Imprimir Diccionario\n",
            "0. Salir\n",
            "Digite una opcion: 1\n",
            "\n",
            "\n",
            "Datos del alumno creado\n",
            "\n",
            "Digite una opcion\n",
            "1. Crear Diccionario\n",
            "2. Imprimir Diccionario\n",
            "0. Salir\n",
            "Digite una opcion: 2\n",
            "\n",
            "\n",
            "\tDatos del alumno\n",
            "\n",
            "\n",
            "Matricula: 37102\n",
            "Nombre: Jesus\n",
            "Apellido paterno: Dimas\n",
            "Apellido materno: Lopez\n",
            "Edad: 20\n",
            "Sexo: Femenino\n",
            "\n",
            "Digite una opcion\n",
            "1. Crear Diccionario\n",
            "2. Imprimir Diccionario\n",
            "0. Salir\n",
            "Digite una opcion: a\n",
            "\n",
            "\n",
            "Opcion no valida, debe ser el número 1, 2 o 0\n",
            "\n",
            "Digite una opcion\n",
            "1. Crear Diccionario\n",
            "2. Imprimir Diccionario\n",
            "0. Salir\n",
            "Digite una opcion: 1\n",
            "\n",
            "\n",
            "Datos del alumno creado\n",
            "\n",
            "Digite una opcion\n",
            "1. Crear Diccionario\n",
            "2. Imprimir Diccionario\n",
            "0. Salir\n",
            "Digite una opcion: 2\n",
            "\n",
            "\n",
            "\tDatos del alumno\n",
            "\n",
            "\n",
            "Matricula: 37425\n",
            "Nombre: Jesus\n",
            "Apellido paterno: Perez\n",
            "Apellido materno: Lopez\n",
            "Edad: 19\n",
            "Sexo: Femenino\n",
            "\n",
            "Digite una opcion\n",
            "1. Crear Diccionario\n",
            "2. Imprimir Diccionario\n",
            "0. Salir\n"
          ]
        }
      ]
    }
  ]
}