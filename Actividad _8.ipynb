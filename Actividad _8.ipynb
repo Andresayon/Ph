{
  "nbformat": 4,
  "nbformat_minor": 0,
  "metadata": {
    "colab": {
      "provenance": []
    },
    "kernelspec": {
      "name": "python3",
      "display_name": "Python 3"
    },
    "language_info": {
      "name": "python"
    }
  },
  "cells": [
    {
      "cell_type": "markdown",
      "source": [
        "1.- Programa en python que genere un número entre el 1 y 10 (no visible)  preguntarle al usuario que número cree que generó la computadora, el usuario tendrá 3 oportunidades de adivinar.\n",
        "\n",
        "Decir si adivino o si falló en sus 3 intentos."
      ],
      "metadata": {
        "id": "b6bPkwpICkUZ"
      }
    },
    {
      "cell_type": "code",
      "source": [
        "import random"
      ],
      "metadata": {
        "id": "E2cFrayWCpAH"
      },
      "execution_count": null,
      "outputs": []
    },
    {
      "cell_type": "code",
      "source": [
        "def vali_num(no_visible):\n",
        "    try:\n",
        "        num = int(no_visible)\n",
        "        return True, num\n",
        "    except ValueError:\n",
        "        return False, None\n",
        "\n",
        "numero_random = random.randint(1, 10)\n",
        "\n",
        "intentos = 0\n",
        "intentos_posibles = 3\n",
        "\n",
        "\n",
        "while intentos < intentos_posibles:\n",
        "    usuario = input(\"Digite un numero de entre el 1 y 10: \")\n",
        "    numero, numero_adivinar = vali_num(usuario)\n",
        "\n",
        "    if numero and 1 <= numero_adivinar <= 10:\n",
        "        intentos += 1\n",
        "\n",
        "        if numero_adivinar == numero_random:\n",
        "            print(\"El numero que ingresate es correcto.\")\n",
        "            break\n",
        "        else:\n",
        "            print(f\"Numero incorecto, tienes {intentos_posibles - intentos} intentos mas.\")\n",
        "    else:\n",
        "        print(\"Numero incorrecto o tipo de dato invalido.\")\n",
        "\n",
        "if intentos == intentos_posibles:\n",
        "    print(f\"Perdiste, el numero correcto era el {numero_random}.\")\n"
      ],
      "metadata": {
        "colab": {
          "base_uri": "https://localhost:8080/"
        },
        "id": "F9Zk5sX0Cn4f",
        "outputId": "13f41ed6-e55c-4aa5-fe3c-0caa482afa07"
      },
      "execution_count": null,
      "outputs": [
        {
          "output_type": "stream",
          "name": "stdout",
          "text": [
            "Digite un numero de entre el 1 y 10: 7\n",
            "Numero incorecto, tienes 2 intentos mas.\n",
            "Digite un numero de entre el 1 y 10: 3\n",
            "El numero que ingresate es correcto.\n"
          ]
        }
      ]
    },
    {
      "cell_type": "markdown",
      "source": [
        "2.-El juego Busca Número muestra una lista de 10 numeros, sin mostrar su contenido,\n",
        "\n",
        "Al usuario se le muestra un número que se generó aleatoriamente y el usuario tendrá 3 intentos de adivinar en qué índice del arreglo se encuentra.\n",
        "\n",
        "El usuario recibirá un mensaje que diga GANASTE, PERDISTE, TIENES UN NUEVO INTENTO\n",
        "\n",
        "El usuario podrá jugar cuantas veces lo desee.\n",
        "\n",
        "\n",
        "\n",
        "NOTA: La lista se deberá llenar con números aleatorios del 1 al 10 no repetidos.\n",
        "\n",
        "(Hacer una función que regrese la lista con los 10 números sin repetir)"
      ],
      "metadata": {
        "id": "lwLKNmURGbFI"
      }
    },
    {
      "cell_type": "code",
      "source": [
        "def numeros_aleatorios():\n",
        "    numeros = list(range(1, 11))\n",
        "    random.shuffle(numeros)\n",
        "    return numeros\n",
        "\n",
        "def juego_indice():\n",
        "    lista_de_numeros = numeros_aleatorios()\n",
        "    intentos_restantes = 3\n",
        "\n",
        "    print(\"Juego de buscar un numero en el indice\")\n",
        "\n",
        "    while intentos_restantes > 0:\n",
        "        numero_aleatorio = random.choice(lista_de_numeros)\n",
        "        print(f\"Numero aleatorio generado. Tus intentos: {intentos_restantes}\")\n",
        "\n",
        "        try:\n",
        "            indice_adivinado = int(input(\"Tienes que adividar el numero (0-9): \"))\n",
        "            if 0 <= indice_adivinado < len(lista_de_numeros):\n",
        "                if lista_de_numeros[indice_adivinado] == numero_aleatorio:\n",
        "                    print(\"El numero que digitaste era el correcto\")\n",
        "                    break\n",
        "                else:\n",
        "                    intentos_restantes -= 1\n",
        "                    if intentos_restantes > 0:\n",
        "                        print(\"Incorrecto. Puedes internatar de nuevo.\")\n",
        "                    else:\n",
        "                        print(f\"Has perdido los 3 intentos, el numero era {numero_aleatorio}.\")\n",
        "            else:\n",
        "                print(\"Numeros de entre el 0 y 9.\")\n",
        "        except ValueError:\n",
        "            print(\"Debes digitar solo numeros del 1 al 9.\")\n",
        "\n",
        "    while True:\n",
        "        volver_a_jugar = input(\"Si desea volver a jugar digite si/no: \")\n",
        "        if volver_a_jugar.lower() == \"si\":\n",
        "            juego_indice()\n",
        "            break\n",
        "        elif volver_a_jugar.lower() == \"no\":\n",
        "            print(\"Saliste del juego\")\n",
        "            break\n",
        "        else:\n",
        "            print(\"Tienes que digitar si o no\")\n",
        "\n",
        "juego_indice()\n",
        "\n"
      ],
      "metadata": {
        "colab": {
          "base_uri": "https://localhost:8080/"
        },
        "id": "BEu7fJX3Gegm",
        "outputId": "f073cd5c-6da5-4af2-cab0-01223af79b00"
      },
      "execution_count": null,
      "outputs": [
        {
          "output_type": "stream",
          "name": "stdout",
          "text": [
            "Juego de buscar un numero en el indice\n",
            "Numero aleatorio generado. Tus intentos: 3\n",
            "Tienes que adividar el numero (0-9): 4\n",
            "Incorrecto. Puedes internatar de nuevo.\n",
            "Numero aleatorio generado. Tus intentos: 2\n",
            "Tienes que adividar el numero (0-9): 5\n",
            "Incorrecto. Puedes internatar de nuevo.\n",
            "Numero aleatorio generado. Tus intentos: 1\n",
            "Tienes que adividar el numero (0-9): 6\n",
            "Has perdido los 3 intentos, el numero era 8.\n",
            "Si desea volver a jugar digite si/no: no\n",
            "Saliste del juego\n"
          ]
        }
      ]
    },
    {
      "cell_type": "markdown",
      "source": [
        "VERSION a)"
      ],
      "metadata": {
        "id": "cSBj3lEWA053"
      }
    },
    {
      "cell_type": "code",
      "source": [
        "def generar_lista_aleatoria():\n",
        "    numeros = []\n",
        "\n",
        "    while len(numeros) < 10:\n",
        "        numero_aleatorio = random.randint(1, 10)\n",
        "        if numero_aleatorio not in numeros:\n",
        "            numeros.append(numero_aleatorio)\n",
        "\n",
        "    return numeros\n",
        "\n",
        "def jugar_juego():\n",
        "    lista_numeros = generar_lista_aleatoria()\n",
        "    intentos_restantes = 3\n",
        "\n",
        "    print(\"Juego de buscar un numero en el indice\")\n",
        "\n",
        "    while intentos_restantes > 0:\n",
        "        numero_aleatorio = random.choice(lista_numeros)\n",
        "        print(f\"Numero aleatorio generado. Tus intentos: {intentos_restantes}\")\n",
        "\n",
        "        try:\n",
        "            indice_adivinado = int(input(\"Tienes que adividar el numero (0-9): \"))\n",
        "            if 0 <= indice_adivinado < len(lista_numeros):\n",
        "                if lista_numeros[indice_adivinado] == numero_aleatorio:\n",
        "                    print(\"El numero que digitaste era el correcto\")\n",
        "                    break\n",
        "                else:\n",
        "                    intentos_restantes -= 1\n",
        "                    if intentos_restantes > 0:\n",
        "                        print(\"Incorrecto. Puedes internatar de nuevo.\")\n",
        "                    else:\n",
        "                        print(f\"Has perdido los 3 intentos, el numero era {numero_aleatorio}.\")\n",
        "            else:\n",
        "                print(\"El indice debe estar entre 0 y 9.\")\n",
        "        except ValueError:\n",
        "            print(\"Debes digitar solo numeros del 1 al 9.\")\n",
        "\n",
        "    while True:\n",
        "        volver_a_jugar = input(\"Si desea volver a jugar digite si/no: \")\n",
        "        if volver_a_jugar.lower() == \"si\":\n",
        "            jugar_juego()\n",
        "            break\n",
        "        elif volver_a_jugar.lower() == \"no\":\n",
        "            print(\"Saliste del juego\")\n",
        "            break\n",
        "        else:\n",
        "            print(\"Tienes que digitar si o no\")\n",
        "\n",
        "jugar_juego()\n"
      ],
      "metadata": {
        "colab": {
          "base_uri": "https://localhost:8080/"
        },
        "id": "A6zKRSwjA8xo",
        "outputId": "8ff2a883-e6dd-4d98-a5fe-02daa222689d"
      },
      "execution_count": null,
      "outputs": [
        {
          "output_type": "stream",
          "name": "stdout",
          "text": [
            "Juego de buscar un numero en el indice\n",
            "Numero aleatorio generado. Tus intentos: 3\n",
            "Tienes que adividar el numero (0-9): 2\n",
            "El numero que digitaste era el correcto\n",
            "Si desea volver a jugar digite si/no: 3\n",
            "Tienes que digitar si o no\n",
            "Si desea volver a jugar digite si/no: si\n",
            "Juego de buscar un numero en el indice\n",
            "Numero aleatorio generado. Tus intentos: 3\n",
            "Tienes que adividar el numero (0-9): 5\n",
            "Incorrecto. Puedes internatar de nuevo.\n",
            "Numero aleatorio generado. Tus intentos: 2\n",
            "Tienes que adividar el numero (0-9): 2\n",
            "Incorrecto. Puedes internatar de nuevo.\n",
            "Numero aleatorio generado. Tus intentos: 1\n",
            "Tienes que adividar el numero (0-9): 3\n",
            "Has perdido los 3 intentos, el numero era 5.\n",
            "Si desea volver a jugar digite si/no: no\n",
            "Saliste del juego\n"
          ]
        }
      ]
    },
    {
      "cell_type": "markdown",
      "source": [
        "VERSION B Y C"
      ],
      "metadata": {
        "id": "1iHKfz-eE_W4"
      }
    },
    {
      "cell_type": "code",
      "source": [
        "import random\n",
        "\n",
        "def numeros_aleatorios():\n",
        "    numeros = list(range(1, 11))\n",
        "    random.shuffle(numeros)\n",
        "    return numeros\n",
        "\n",
        "def juego_indice():\n",
        "    lista_de_numeros = numeros_aleatorios()\n",
        "    intentos_restantes = 3\n",
        "\n",
        "    print(\"Juego de buscar un numero en el indice\")\n",
        "\n",
        "    while intentos_restantes > 0:\n",
        "        numero_aleatorio = random.choice(lista_de_numeros)\n",
        "        print(f\"Numero aleatorio generado. Tus intentos: {intentos_restantes}\")\n",
        "\n",
        "        try:\n",
        "            indice_adivinado = int(input(\"Tienes que adivinar el numero (0-9): \"))\n",
        "            if 0 <= indice_adivinado < len(lista_de_numeros):\n",
        "                if lista_de_numeros[indice_adivinado] == numero_aleatorio:\n",
        "                    print(\"El numero que digitaste era el correcto\")\n",
        "                    break\n",
        "                else:\n",
        "                    intentos_restantes -= 1\n",
        "                    if intentos_restantes > 0:\n",
        "                        print(\"Incorrecto. Puedes intentar de nuevo.\")\n",
        "                    else:\n",
        "                        print(f\"Has perdido los 3 intentos, el numero era {numero_aleatorio}.\")\n",
        "            else:\n",
        "                print(\"Numeros entre 0 y 9.\")\n",
        "        except ValueError:\n",
        "            print(\"Debes digitar solo numeros del 0 al 9.\")\n",
        "\n",
        "    while True:\n",
        "        volver_a_jugar = input(\"Si deseas volver a jugar, escribe 'si'. Si deseas salir, escribe 'no': \")\n",
        "        if volver_a_jugar.lower() == \"si\":\n",
        "            juego_indice()\n",
        "            break\n",
        "        elif volver_a_jugar.lower() == \"no\":\n",
        "            print(\"Saliste del juego\")\n",
        "            break\n",
        "        else:\n",
        "            print(\"Debes digitar 'si' o 'no'.\")\n",
        "\n",
        "juego_indice()\n"
      ],
      "metadata": {
        "colab": {
          "base_uri": "https://localhost:8080/"
        },
        "id": "VUmt77RDFBhk",
        "outputId": "59a437dc-a33f-44ba-b82d-72077b0f8909"
      },
      "execution_count": null,
      "outputs": [
        {
          "output_type": "stream",
          "name": "stdout",
          "text": [
            "Juego de buscar un numero en el indice\n",
            "Numero aleatorio generado. Tus intentos: 3\n",
            "Tienes que adivinar el numero (0-9): 2\n",
            "Incorrecto. Puedes intentar de nuevo.\n",
            "Numero aleatorio generado. Tus intentos: 2\n",
            "Tienes que adivinar el numero (0-9): 3\n",
            "Incorrecto. Puedes intentar de nuevo.\n",
            "Numero aleatorio generado. Tus intentos: 1\n",
            "Tienes que adivinar el numero (0-9): 4\n",
            "Has perdido los 3 intentos, el numero era 1.\n",
            "Si deseas volver a jugar, escribe 'si'. Si deseas salir, escribe 'no': no\n",
            "Saliste del juego\n"
          ]
        }
      ]
    }
  ]
}