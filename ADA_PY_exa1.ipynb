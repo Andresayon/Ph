{
  "nbformat": 4,
  "nbformat_minor": 0,
  "metadata": {
    "colab": {
      "provenance": [],
      "authorship_tag": "ABX9TyPKjkIoLfT9Td9q9tD7/FXi",
      "include_colab_link": true
    },
    "kernelspec": {
      "name": "python3",
      "display_name": "Python 3"
    },
    "language_info": {
      "name": "python"
    }
  },
  "cells": [
    {
      "cell_type": "markdown",
      "metadata": {
        "id": "view-in-github",
        "colab_type": "text"
      },
      "source": [
        "<a href=\"https://colab.research.google.com/github/Andresayon/Ph/blob/main/ADA_PY_exa1.ipynb\" target=\"_parent\"><img src=\"https://colab.research.google.com/assets/colab-badge.svg\" alt=\"Open In Colab\"/></a>"
      ]
    },
    {
      "cell_type": "code",
      "execution_count": 1,
      "metadata": {
        "colab": {
          "base_uri": "https://localhost:8080/"
        },
        "id": "2aCSYCjl6tLu",
        "outputId": "88debdab-67b9-49be-b3c3-5c8a844979d2"
      },
      "outputs": [
        {
          "output_type": "stream",
          "name": "stdout",
          "text": [
            "[69, 27, 99, 84, 43, 80, 89, 59, 81, 76, 63, 92, 50, 85, 67, 54, 100, 66, 96, 31, 65, 64, 71, 87, 40, 74, 41, 38, 33, 32]\n"
          ]
        }
      ],
      "source": [
        "#funcion que retorne una lista con 30 numeros generados aleatorios (20-100) no repetidos\n",
        "\n",
        "import random\n",
        "\n",
        "def generar_numeros_aleatorios():\n",
        "\n",
        "    numeros_aleatorios = random.sample(range(20, 101), 30)\n",
        "\n",
        "    return numeros_aleatorios\n",
        "\n",
        "lista_aleatoria = generar_numeros_aleatorios()\n",
        "\n",
        "print(lista_aleatoria)\n"
      ]
    }
  ]
}