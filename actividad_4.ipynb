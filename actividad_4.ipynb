{
  "nbformat": 4,
  "nbformat_minor": 0,
  "metadata": {
    "colab": {
      "provenance": [],
      "authorship_tag": "ABX9TyMmLNauhTSIhC6SwqIs7Iuz",
      "include_colab_link": true
    },
    "kernelspec": {
      "name": "python3",
      "display_name": "Python 3"
    },
    "language_info": {
      "name": "python"
    }
  },
  "cells": [
    {
      "cell_type": "markdown",
      "metadata": {
        "id": "view-in-github",
        "colab_type": "text"
      },
      "source": [
        "<a href=\"https://colab.research.google.com/github/Andresayon/Ph/blob/main/actividad_4.ipynb\" target=\"_parent\"><img src=\"https://colab.research.google.com/assets/colab-badge.svg\" alt=\"Open In Colab\"/></a>"
      ]
    },
    {
      "cell_type": "markdown",
      "source": [
        "1.- Programa en python   que lea 3 calificaciones calcule el promedio del alumno y desplegar:"
      ],
      "metadata": {
        "id": "667D1ZqiJOPZ"
      }
    },
    {
      "cell_type": "code",
      "source": [
        "\n",
        "try:\n",
        "\n",
        "\n",
        "  calif1 = float(input(\"Digite la primera calificacion: \"))\n",
        "  calif2 = float(input(\"Digite la segunda calificacion: \"))\n",
        "  calif3 = float(input(\"Digite la tercera calificacion: \"))\n",
        "\n",
        "\n",
        "  prom = (calif1+calif2+calif3)/3\n",
        "\n",
        "\n",
        "  if prom < 30:\n",
        "        print(\"Repetir\")\n",
        "  elif prom < 60:\n",
        "        print(\"Extraordinario\")\n",
        "  elif prom < 70:\n",
        "        print(\"Suficiente\")\n",
        "  elif prom < 80:\n",
        "        print(\"Regular\")\n",
        "  elif prom < 90:\n",
        "        print(\"Bien\")\n",
        "  elif prom < 98:\n",
        "        print(\"Muy Bien\")\n",
        "  elif prom <= 100:\n",
        "        print(\"Excelente\")\n",
        "  else:\n",
        "        print(\"Error en el promedio\")\n",
        "\n",
        "except ValueError:\n",
        "        print(\"El tipo de dato es incorrecto, vuelva a correr el programa\")\n",
        "\n",
        "\n"
      ],
      "metadata": {
        "colab": {
          "base_uri": "https://localhost:8080/"
        },
        "id": "VOzZBIYLJWNJ",
        "outputId": "49f3f785-7752-4876-bacf-bf8e909a9944"
      },
      "execution_count": null,
      "outputs": [
        {
          "output_type": "stream",
          "name": "stdout",
          "text": [
            "Digite la primera calificacion: 67\n",
            "Digite la segunda calificacion: 89\n",
            "Digite la tercera calificacion: 90\n",
            "Bien\n"
          ]
        }
      ]
    },
    {
      "cell_type": "markdown",
      "source": [
        "2.- Programa en Python que sirva para calcular el salario semanal de un trabajador donde se obtiene como dato de entrada las horas semanales trabajadas, el salario por hora.\n",
        "\n",
        "El programa deberá calcular el salario normal, salario extra y salario total, considerando lo siguiente:"
      ],
      "metadata": {
        "id": "KecxozalJWj0"
      }
    },
    {
      "cell_type": "code",
      "source": [
        "try:\n",
        "\n",
        "  jor_nor = int(input(\"Digite las horas trabajadas(1-40): \"))\n",
        "  sal_hora = int(input(\"Digite el salario por hora: \"))\n",
        "\n",
        "  sal_horaTot_nor = jor_nor*sal_hora\n",
        "\n",
        "  horas_extra = int(input(\"Digite las horas extra trabajadas: \"))\n",
        "\n",
        "  print(\"Su salario normal es de; \"+str(sal_horaTot_nor))\n",
        "\n",
        "  if horas_extra >= 1 and horas_extra <= 9:\n",
        "    horas_extra = sal_hora*horas_extra*2\n",
        "\n",
        "    print(\"Su salario por hora exra es: \"+str(horas_extra))\n",
        "    tot = horas_extra+sal_horaTot_nor\n",
        "    print(\"Su salario total es de: \"+str(tot))\n",
        "  elif horas_extra > 9:\n",
        "    horas_extra = sal_hora*horas_extra*3\n",
        "\n",
        "    print(\"Su salario por horas extra es: \"+str(horas_extra))\n",
        "    tot = horas_extra+sal_horaTot_nor\n",
        "    print(\"Su salario total es de: \"+str(tot))\n",
        "\n",
        "except ValueError:\n",
        "  print(\"Tipo de dato invalido, corra de nuevo el programa\")\n"
      ],
      "metadata": {
        "id": "rTh2KiTJMLpG",
        "colab": {
          "base_uri": "https://localhost:8080/"
        },
        "outputId": "b94b93a6-6a32-40a7-d7b9-c19c824790c6"
      },
      "execution_count": null,
      "outputs": [
        {
          "output_type": "stream",
          "name": "stdout",
          "text": [
            "Digite las horas trabajadas(1-40): 40\n",
            "Digite el salario por hora: 65\n",
            "Digite las horas extra trabajadas: a\n",
            "Tipo de dato invalido, corra de nuevo el programa\n"
          ]
        }
      ]
    },
    {
      "cell_type": "markdown",
      "source": [
        "3.- Programa en Python que sirva para calcular el Total a pagar por consumo de agua, donde el dato de entrada son los M3 de agua consumidos, Tomar en cuenta que se cobra escalonada de la Siguiente manera"
      ],
      "metadata": {
        "id": "J9yNFHJ7ML5V"
      }
    },
    {
      "cell_type": "code",
      "source": [
        "try:\n",
        "\n",
        " agua_consu = float(input(\"Digite los M3 consumidos de agua consumida: \"))\n",
        " print(\"\\n\")\n",
        "\n",
        " if agua_consu <= 4:\n",
        "\n",
        "  subto_agua = 50\n",
        "  print(\"\\t      RANGO 1\")\n",
        "\n",
        "  print(\"\\nSu subtotal consumido de agua: \"+str(subto_agua))\n",
        "  iva3 = subto_agua*0.16\n",
        "  print(\"IVA de: \"+str(iva3))\n",
        "  totagua = subto_agua+iva3\n",
        "  print(\"Su total por el consumo de agua es: \"+str(totagua))\n",
        "\n",
        " elif agua_consu <= 15:\n",
        "   subto_agua = agua_consu*8\n",
        "   print(\"\\t      RANGO 2\")\n",
        "\n",
        "   print(\"\\nSu subtotal consumido de agua: \"+str(subto_agua))\n",
        "   iva3 = subto_agua*0.16\n",
        "   print(\"IVA de: \"+str(iva3))\n",
        "   totagua = subto_agua+iva3\n",
        "   print(\"Su total por el consumo de agua es: \"+str(totagua))\n",
        "\n",
        " elif agua_consu <= 50:\n",
        "   subto_agua = agua_consu*10\n",
        "   print(\"\\t      RANGO 3\")\n",
        "\n",
        "   print(\"\\nSu subtotal consumido de agua: \"+str(subto_agua))\n",
        "   iva3 = subto_agua*0.16\n",
        "   print(\"IVA de: \"+str(iva3))\n",
        "   totagua = subto_agua+iva3\n",
        "   print(\"Su total por el consumo de agua es: \"+str(totagua))\n",
        "\n",
        " elif agua_consu > 50:\n",
        "   subto_agua = agua_consu*11\n",
        "   print(\"\\t      RANGO 4\")\n",
        "\n",
        "   print(\"\\nSu subtotal consumido de agua: \"+str(subto_agua))\n",
        "   iva3 = subto_agua*0.16\n",
        "   print(\"IVA de: \"+str(iva3))\n",
        "   totagua = subto_agua+iva3\n",
        "   print(\"Su total por el consumo de agua es: \"+str(totagua))\n",
        "\n",
        "except ValueError:\n",
        "  print(\"El tipo de dato es incorrecto, vuelva a correr el programa\")"
      ],
      "metadata": {
        "colab": {
          "base_uri": "https://localhost:8080/"
        },
        "id": "XGfO7nW4MYMQ",
        "outputId": "317d711e-8919-436b-ecdf-9675dd46c366"
      },
      "execution_count": null,
      "outputs": [
        {
          "output_type": "stream",
          "name": "stdout",
          "text": [
            "Digite los M3 consumidos de agua consumida: 5\n",
            "\n",
            "\n",
            "\t      RANGO 2\n",
            "\n",
            "Su subtotal consumido de agua: 40.0\n",
            "IVA de: 6.4\n",
            "Su total por el consumo de agua es: 46.4\n"
          ]
        }
      ]
    },
    {
      "cell_type": "markdown",
      "source": [
        "4- En la materia de Metodología de la programación se aplican 5 exámenes, calcular el promedio final de la materia donde la calificación menor de los exámenes se anula y el promedio se calcula en base a 4 exámenes.\n",
        "\n",
        "Desplegar el promedio final. y cual es la mas baja que se elimino."
      ],
      "metadata": {
        "id": "9hLPkGm5OEb0"
      }
    },
    {
      "cell_type": "code",
      "source": [
        "\n",
        "try:\n",
        "\n",
        "  exa1 = float(input(\"Digite la primera calificacion: \"))\n",
        "  exa2 = float(input(\"Digite la primera calificacion: \"))\n",
        "  exa3 = float(input(\"Digite la primera calificacion: \"))\n",
        "  exa4 = float(input(\"Digite la primera calificacion: \"))\n",
        "  exa5 = float(input(\"Digite la primera calificacion: \"))\n",
        "\n",
        "  if exa1<=exa2 and exa1<=exa3 and exa1<=exa4 and exa1<=exa5:\n",
        "     prom = (exa2+exa3+exa4+exa5)/4\n",
        "     print(\"La calificaicon mas baja del examen es: \"+str(exa1))\n",
        "     print(\"El promedio del alumno es: \"+str(prom))\n",
        "\n",
        "  elif exa2<=exa3 and exa2<=exa4 and exa2<=exa5:\n",
        "    prom = (exa1+exa3+exa4+exa5)\n",
        "    print(\"La calificaicon mas baja del examne es: \"+str(exa2))\n",
        "    print(\"El promedio del alumno es: \"+str(prom))\n",
        "\n",
        "  elif exa3<=exa4 and exa3<=exa5:\n",
        "    prom = (exa1+exa2+exa4+exa5)/4\n",
        "    print(\"La calificacion mas baja del examen es: \"+str(exa3))\n",
        "    print(\"El promedio del alumno es: \"+str(prom))\n",
        "\n",
        "  elif exa4<=exa5:\n",
        "    prom = (exa1+exa2+exa3+exa5)/4\n",
        "    print(\"La calificacion mas baja del examen es: \"+str(exa4))\n",
        "    print(\"El promedio del alumno es: \"+str(prom))\n",
        "  else:\n",
        "    prom = (exa1+exa2+exa3+exa4)/4\n",
        "    print(\"La calificacion mas baja del examen es: \"+str(exa5))\n",
        "    print(\"El promedio del alumno es: \"+str(prom))\n",
        "\n",
        "except ValueError:\n",
        "  print(\"Valor incorrecto, corra de nuevo el prgrama con un dato valido\")\n",
        "\n",
        "\n",
        "\n",
        "\n",
        "\n"
      ],
      "metadata": {
        "id": "IhiBAWzVOJBD",
        "colab": {
          "base_uri": "https://localhost:8080/"
        },
        "outputId": "000c0e52-aa07-4c52-939e-4221f7648837"
      },
      "execution_count": null,
      "outputs": [
        {
          "output_type": "stream",
          "name": "stdout",
          "text": [
            "Digite la primera calificacion: 56.6\n",
            "Digite la primera calificacion: a\n",
            "Valor incorrecto, corra de nuevo el prgrama con un dato valido\n"
          ]
        }
      ]
    },
    {
      "cell_type": "markdown",
      "source": [
        "5.- Programa en Python que sirva para el juego del CHINCHAMPU (Piedra, Papel, Tijera) para 1 jugador y la computadora"
      ],
      "metadata": {
        "id": "ng8YuiBcOJPi"
      }
    },
    {
      "cell_type": "code",
      "source": [
        "try:\n",
        "\n",
        "  import random\n",
        "\n",
        "  def juego_chinchampu(jugador, computadora):\n",
        "    if jugador == computadora:\n",
        "        return \"Empate\"\n",
        "    elif (jugador == \"piedra\" and computadora == \"tijera\") or (jugador == \"papel\" and computadora == \"piedra\") or (jugador == \"tijera\" and computadora == \"papel\"):\n",
        "        return \"Ganaste\"\n",
        "    else:\n",
        "        return \"Gano la maquina\"\n",
        "\n",
        "  opciones = [\"piedra\", \"papel\", \"tijera\"]\n",
        "  computadora = random.choice(opciones)\n",
        "\n",
        "  print(\"Bienvenido al juego de Chinchampu\")\n",
        "  print(\"Opciones: piedra, papel, tijera\")\n",
        "  jugador = input(\"Elige: \").lower()\n",
        "\n",
        "  if jugador in opciones:\n",
        "    resultado = juego_chinchampu(jugador, computadora)\n",
        "    print(f\"la maquina eligio: {computadora}\")\n",
        "    print(resultado)\n",
        "  else:\n",
        "    print(\"Opcion incorrecta. Debes elegir piedra, papel o tijera.\")\n",
        "\n",
        "except ValueError:\n",
        "  print(\"Tipo de dato incorrecto, corra de nuevo el programa y utulice solo los valores indicados\")\n"
      ],
      "metadata": {
        "id": "nHNaoZTsOTe_",
        "colab": {
          "base_uri": "https://localhost:8080/"
        },
        "outputId": "74435e3c-53de-4135-972a-ee7b2f756cfa"
      },
      "execution_count": null,
      "outputs": [
        {
          "output_type": "stream",
          "name": "stdout",
          "text": [
            "Bienvenido al juego de Chinchampu\n",
            "Opciones: piedra, papel, tijera\n",
            "Elige: 1\n",
            "Opcion incorrecta. Debes elegir piedra, papel o tijera.\n"
          ]
        }
      ]
    },
    {
      "cell_type": "markdown",
      "source": [
        "6.- Programa en Python que lea 4 números enteros desplegar cuales el menor, cual es mayor"
      ],
      "metadata": {
        "id": "sYEZnoCyOT0k"
      }
    },
    {
      "cell_type": "code",
      "source": [
        "try:\n",
        "\n",
        "  num1 = int(input(\"Digite un numero entero: \"))\n",
        "  num2 = int(input(\"Digite un numero entero: \"))\n",
        "  num3 = int(input(\"Digite un numero entero: \"))\n",
        "  num4 = int(input(\"Digite un numero entero: \"))\n",
        "\n",
        "  men = min(num1,num2,num3,num4)\n",
        "\n",
        "  may = max(num1,num2,num3,num4)\n",
        "\n",
        "  print(\"El numero manor es el: \"+str(men))\n",
        "  print(\"El numero mayor es el: \"+str(may))\n",
        "\n",
        "except ValueError:\n",
        "  print(\"Tipo de dato no valido, corrada de nuevo el programa con numeros enteros\")\n"
      ],
      "metadata": {
        "id": "I-UvhGA5OUe1",
        "colab": {
          "base_uri": "https://localhost:8080/"
        },
        "outputId": "d64d8141-a39b-4ff9-8e01-1bda90a91725"
      },
      "execution_count": null,
      "outputs": [
        {
          "output_type": "stream",
          "name": "stdout",
          "text": [
            "Digite un numero entero: 2\n",
            "Digite un numero entero: a\n",
            "Tipo de dato no valido, corrada de nuevo el programa con numeros enteros\n"
          ]
        }
      ]
    },
    {
      "cell_type": "markdown",
      "source": [
        "7.- Programa en Python que sirva para calcular el área de un triangulo, los datos de entrada deben ser forzosamente de tipo real"
      ],
      "metadata": {
        "id": "XZEZ17YpOUrl"
      }
    },
    {
      "cell_type": "code",
      "source": [
        "try:\n",
        "  base = float(input(\"Digite el valor de la base: \"))\n",
        "  altura = float(input(\"Digite el valor de la altura: \"))\n",
        "\n",
        "  area = (base*altura)/2\n",
        "\n",
        "  print(\"El valor del area es: \"+str(area))\n",
        "\n",
        "except ValueError:\n",
        "  print(\"Tipo de dato no valido, vuelva a correr el programa\")"
      ],
      "metadata": {
        "id": "U-uspFONOYV8",
        "colab": {
          "base_uri": "https://localhost:8080/"
        },
        "outputId": "285a6967-2fe9-4754-b6e6-17e802397c1c"
      },
      "execution_count": null,
      "outputs": [
        {
          "output_type": "stream",
          "name": "stdout",
          "text": [
            "Digite el valor de la base: 6\n",
            "Digite el valor de la altura: 5\n",
            "El valor del area es: 15.0\n"
          ]
        }
      ]
    },
    {
      "cell_type": "markdown",
      "source": [
        "8.- Programa en Python que sirva para calcular el área de un circulo\n",
        "\n"
      ],
      "metadata": {
        "id": "8-nj3ZYvOYxp"
      }
    },
    {
      "cell_type": "code",
      "source": [
        "try:\n",
        "  radio=float(input(\"Digite el radio del circulo: \"))\n",
        "\n",
        "  area = 3.1416*(radio*radio)\n",
        "\n",
        "  print(\"El area del cicrulo es: \"+str(area))\n",
        "\n",
        "except ValueError:\n",
        "  print(\"El tipo de dato es incorrecto, vuelva a correr el programa\")"
      ],
      "metadata": {
        "colab": {
          "base_uri": "https://localhost:8080/"
        },
        "id": "HZGUBNGKOcx0",
        "outputId": "f2fbed05-faa3-4f90-f92d-e060af4381ec"
      },
      "execution_count": null,
      "outputs": [
        {
          "output_type": "stream",
          "name": "stdout",
          "text": [
            "Digite el radio del circulo: a\n",
            "El tipo de dato es incorrecto, vuelva a correr el programa\n"
          ]
        }
      ]
    }
  ]
}