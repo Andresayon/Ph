{
  "cells": [
    {
      "cell_type": "markdown",
      "metadata": {
        "id": "view-in-github",
        "colab_type": "text"
      },
      "source": [
        "<a href=\"https://colab.research.google.com/github/Andresayon/Ph/blob/main/Actividad_6.ipynb\" target=\"_parent\"><img src=\"https://colab.research.google.com/assets/colab-badge.svg\" alt=\"Open In Colab\"/></a>"
      ]
    },
    {
      "cell_type": "markdown",
      "metadata": {
        "id": "0_omGdu-dEop"
      },
      "source": [
        "                                          Actividad #6"
      ]
    },
    {
      "cell_type": "code",
      "execution_count": null,
      "metadata": {
        "id": "Z0hesQktdneO"
      },
      "outputs": [],
      "source": [
        "\n",
        "def vali_num(mensaje, min, max):\n",
        "    while True:\n",
        "        try:\n",
        "            numero = float(input(mensaje))\n",
        "            if min <= numero <= max:\n",
        "                return numero\n",
        "            else:\n",
        "                print(f\"Debe ser un numero entero que se ecnuetre entre {min} y {max}.\")\n",
        "        except ValueError:\n",
        "            print(\"Tipo de dato invalido, deben ser solo numeros enteros\")\n",
        "\n"
      ]
    },
    {
      "cell_type": "code",
      "execution_count": null,
      "metadata": {
        "colab": {
          "background_save": true
        },
        "id": "xUBwbLnrPBX-"
      },
      "outputs": [],
      "source": [
        "while True:\n",
        "    print(\"\\nDigite una opcion\")\n",
        "    print(\"1. n Cantidad de numeros\")\n",
        "    print(\"2. Numeros impares\")\n",
        "    print(\"3. Rango dado por el usuario\")\n",
        "    print(\"4. Area dle triangulo\")\n",
        "    print(\"5. Calificaciones\")\n",
        "    print(\"6. Salir\")\n",
        "\n",
        "    opc = input(\"Digite una opcion: \")\n",
        "\n",
        "    if opc == '1':\n",
        "        media_numeros()\n",
        "    elif opc == '2':\n",
        "        numero_im10pares()\n",
        "    elif opc == '3':\n",
        "        rango_usuario()\n",
        "    elif opc == '4':\n",
        "        area_triangulo()\n",
        "    elif opc == '5':\n",
        "        calificaciones()\n",
        "    elif opc == '6':\n",
        "        print(\"A salido de la ejecucion\")\n",
        "        break\n",
        "    else:\n",
        "        print(\"Opcion no valida, debe ser un numero de entre 1 y 6\")"
      ]
    },
    {
      "cell_type": "code",
      "execution_count": null,
      "metadata": {
        "id": "C2LZz6MfRYtR"
      },
      "outputs": [],
      "source": [
        "def media_numeros():\n",
        "    numeros = []\n",
        "\n",
        "\n",
        "    while True:\n",
        "        try:\n",
        "            numero = float(input(\"Digite un numero: \"))\n",
        "        except ValueError:\n",
        "            print(\"Debes ingresar un numero entero.\")\n",
        "            continue\n",
        "\n",
        "        numeros.append(numero)\n",
        "\n",
        "        seguir = input(\"Presione 's' si desea ingresar otro numero o presione 'n' si desea salir: \").strip().lower()\n",
        "        if seguir != 's':\n",
        "            break\n",
        "\n",
        "    if not numeros:\n",
        "        print(\"Por favor digite un numero\")\n",
        "        return\n",
        "\n",
        "    suma = sum(numeros)\n",
        "    media = suma / len(numeros)\n",
        "    maximo = max(numeros)\n",
        "    minimo = min(numeros)\n",
        "\n",
        "    print(f\"La suma de los numeros es: {suma}\")\n",
        "    print(f\"La media de los numeros es: {media}\")\n",
        "    print(f\"El numero maximo es: {maximo}\")\n",
        "    print(f\"El numero minimo es: {minimo}\")\n",
        "\n",
        "\n"
      ]
    },
    {
      "cell_type": "code",
      "execution_count": null,
      "metadata": {
        "colab": {
          "base_uri": "https://localhost:8080/"
        },
        "id": "gydTvAy9SIgH",
        "outputId": "53a5b9ba-225a-4510-84a1-fdb91f1fb19e"
      },
      "outputs": [
        {
          "name": "stdout",
          "output_type": "stream",
          "text": [
            "Los numero impares son: [17, 53, 35, 53, 17, 43, 55, 59, 21, 21, 31]\n",
            "La media de los numero impares es de: 36.81818181818182\n",
            "La media de los numeros pares es de 0\n"
          ]
        }
      ],
      "source": [
        "import random\n",
        "\n",
        "def num_random(maxima=25):\n",
        "    impares = []\n",
        "    numeros_generados = 0\n",
        "\n",
        "    for _ in range(maxima):\n",
        "        numero = random.randint(10, 60)\n",
        "\n",
        "\n",
        "        if numero % 2 != 0:\n",
        "            impares.append(numero)\n",
        "            numeros_generados += 1\n",
        "\n",
        "        if numeros_generados == 15:\n",
        "            break\n",
        "\n",
        "    return impares\n",
        "\n",
        "def media_pares_impares(numeros_impares):\n",
        "    numeros_pares = [num for num in numeros_impares if num % 2 == 0]\n",
        "\n",
        "    media_impares = sum(numeros_impares) / len(numeros_impares)\n",
        "    media_pares = sum(numeros_pares) / len(numeros_pares) if numeros_pares else 0\n",
        "\n",
        "    return media_impares, media_pares\n",
        "\n",
        "\n",
        "numeros_impares_generados = num_random()\n",
        "\n",
        "\n",
        "media_impares, media_pares = media_pares_impares(numeros_impares_generados)\n",
        "\n",
        "\n",
        "print(\"Los numero impares son:\", numeros_impares_generados)\n",
        "print(\"La media de los numero impares es de:\", media_impares)\n",
        "print(\"La media de los numeros pares es de\", media_pares)"
      ]
    },
    {
      "cell_type": "code",
      "execution_count": null,
      "metadata": {
        "id": "h1_r9DA4SKdR"
      },
      "outputs": [],
      "source": [
        "def rango_usuario():\n",
        "\n",
        "  suma = 0\n",
        "  cantidad_Numeros = 0\n",
        "\n",
        "  for i in range(1, 15):\n",
        "        numero = int(input(\"Digite un numero: \"))\n",
        "\n",
        "        if numero == 0:\n",
        "            break\n",
        "\n",
        "\n",
        "        if numero > 0:\n",
        "            suma += numero\n",
        "            cantidad_Numeros += 1\n",
        "        else:\n",
        "            print(\"Incorrecto, el nuemero debe ser mayor a cero\")\n",
        "\n",
        "\n",
        "  if cantidad_Numeros > 0:\n",
        "        media = suma/cantidad_Numeros\n",
        "        print(f\"La suma de los numeros: {suma}\")\n",
        "        print(f\"La media de los numeros es: {media}\")"
      ]
    },
    {
      "cell_type": "code",
      "execution_count": null,
      "metadata": {
        "id": "c9WqLdQ6SK31"
      },
      "outputs": [],
      "source": [
        "def area_triangulo():\n",
        "\n",
        "  base = int(input(\"Digite el valor de la base: \"))\n",
        "  altura = int(input(\"Digiyte el valr de la altura: \"))\n",
        "\n",
        "  area = (base*altura)/2\n",
        "\n",
        "  print(f\"El valor de el triangulo con area con base {base} y altura de {altura} es:\",area)"
      ]
    },
    {
      "cell_type": "code",
      "execution_count": null,
      "metadata": {
        "id": "8zUhokuTSLCJ"
      },
      "outputs": [],
      "source": [
        "def calificaciones():\n",
        "\n",
        "  intentos = 0\n",
        "\n",
        "  for _ in range(3):\n",
        "\n",
        "      calif1 = float(input(\"Digite la califacion: \"))\n",
        "      calif2 = float(input(\"Digite una calificacion: \"))\n",
        "      calif3 = float(input(\"Digite una calificacion: \"))\n",
        "\n",
        "      prom = (calif1+calif2+calif3)/3\n",
        "\n",
        "\n",
        "      if prom >=60:\n",
        "       print(\"felicidades avanzas al siguiente semestre\")\n",
        "       break\n",
        "\n",
        "      else:\n",
        "       intentos+=1\n",
        "      if intentos <3:\n",
        "         print(\"repetir materia\")\n",
        "      else:\n",
        "          print(\"lastima estas fuera de la UABC\")\n",
        "          break\n"
      ]
    }
  ],
  "metadata": {
    "colab": {
      "provenance": [],
      "authorship_tag": "ABX9TyMQNbDq+OSEHmfsDDj6EEln",
      "include_colab_link": true
    },
    "kernelspec": {
      "display_name": "Python 3",
      "name": "python3"
    },
    "language_info": {
      "name": "python"
    }
  },
  "nbformat": 4,
  "nbformat_minor": 0
}