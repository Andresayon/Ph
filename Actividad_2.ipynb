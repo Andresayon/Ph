{
  "nbformat": 4,
  "nbformat_minor": 0,
  "metadata": {
    "colab": {
      "provenance": [],
      "authorship_tag": "ABX9TyOL8s3oX3Azbqf/urDnEzt8",
      "include_colab_link": true
    },
    "kernelspec": {
      "name": "python3",
      "display_name": "Python 3"
    },
    "language_info": {
      "name": "python"
    }
  },
  "cells": [
    {
      "cell_type": "markdown",
      "metadata": {
        "id": "view-in-github",
        "colab_type": "text"
      },
      "source": [
        "<a href=\"https://colab.research.google.com/github/Andresayon/Ph/blob/main/Actividad_2.ipynb\" target=\"_parent\"><img src=\"https://colab.research.google.com/assets/colab-badge.svg\" alt=\"Open In Colab\"/></a>"
      ]
    },
    {
      "cell_type": "markdown",
      "source": [
        "1.- Programa en Python que lea 2 números enteros, usar una condición y analizar los dos números y desplegar cual de los números es el mayor.\n",
        "\n"
      ],
      "metadata": {
        "id": "NFglHbJoSx2_"
      }
    },
    {
      "cell_type": "code",
      "source": [
        "num1 = int(input(\"Digite un numero: \"))\n",
        "num2 = int(input(\"Digite un numero:: \"))\n",
        "\n",
        "if num1 > num2 and num2 > num2:\n",
        "  print(\"El numero mayor es: \" + str(num1))\n",
        "else:\n",
        "    print(\"El numero mayor es: \" + str(num2))"
      ],
      "metadata": {
        "colab": {
          "base_uri": "https://localhost:8080/"
        },
        "id": "230YwN3jS0VB",
        "outputId": "388e7c74-d0e5-47ad-9e23-15c3a6504c06"
      },
      "execution_count": 5,
      "outputs": [
        {
          "output_type": "stream",
          "name": "stdout",
          "text": [
            "Digite un numero: 1\n",
            "Digite un numero:: 43\n",
            "El numero mayor es: 43\n"
          ]
        }
      ]
    },
    {
      "cell_type": "markdown",
      "source": [
        "2.- Programa en PythonAlgoritmo que lea 4 calificaciones de un alumno, calcular y desplegar el promedio acompañado de la leyenda \"APROBADO\" o \"REPROBADO\""
      ],
      "metadata": {
        "id": "Gw4PHa51Urop"
      }
    },
    {
      "cell_type": "code",
      "source": [
        "calif1 = int(input(\"Digite la calificacion: \"))\n",
        "calif2 = int(input(\"Digite la calificacion: \"))\n",
        "calif3 = int(input(\"Digite la calificacion: \"))\n",
        "calif4 = int(input(\"Digite la calificacion: \"))\n",
        "\n",
        "prom = (calif1+calif2+calif3+calif4)/4\n",
        "\n",
        "if prom >=60:\n",
        "  print(\"Alumno aprobado con promedio de: \" + str(prom))\n",
        "else:\n",
        "  print(\"Alumno reprobado\")"
      ],
      "metadata": {
        "colab": {
          "base_uri": "https://localhost:8080/"
        },
        "id": "WizgeERaUuhH",
        "outputId": "07a6ee1e-1190-48f8-8422-5fa794de1ee3"
      },
      "execution_count": null,
      "outputs": [
        {
          "output_type": "stream",
          "name": "stdout",
          "text": [
            "Digite la calificacion: 59\n",
            "Digite la calificacion: 59\n",
            "Digite la calificacion: 59\n",
            "Digite la calificacion: 59\n",
            "Alumno reprobado\n"
          ]
        }
      ]
    },
    {
      "cell_type": "markdown",
      "source": [
        "3.- Programa en PythonAlgoritmo que a través de opciones (1.- HOMBRE 2.- MUJER ) preguntar al usuario cual es su sexo y desplegar la leyenda “HOMBRE ”, “MUJER”"
      ],
      "metadata": {
        "id": "kYdVcWUrWDNN"
      }
    },
    {
      "cell_type": "code",
      "source": [
        "print(\"===Digite una opcion===\")\n",
        "print(\"\\n1)Hombre\")\n",
        "print(\"2)Mujer\")\n",
        "\n",
        "opc = int(input(\"\\nDigite 1 si es hombre o 2 si es mujer: \"))\n",
        "\n",
        "if opc == 1:\n",
        "  print(\"\\nHOMBRE\")\n",
        "else:\n",
        "  print(\"\\nMUJER\")\n",
        "\n",
        "\n"
      ],
      "metadata": {
        "colab": {
          "base_uri": "https://localhost:8080/"
        },
        "id": "GvHOVp4NWGau",
        "outputId": "76e35da4-de12-4140-bb6f-bc164c8adf09"
      },
      "execution_count": 10,
      "outputs": [
        {
          "output_type": "stream",
          "name": "stdout",
          "text": [
            "===Digite una opcion===\n",
            "\n",
            "1)Hombre\n",
            "2)Mujer\n",
            "\n",
            "Digite 1 si es hombre o 2 si es mujer: 2\n",
            "\n",
            "Usted es mujer\n"
          ]
        }
      ]
    },
    {
      "cell_type": "markdown",
      "source": [
        "4.- Programa en Python que lea un número entero, y desplegar si el número es “PAR” o “IMPAR”"
      ],
      "metadata": {
        "id": "7hxksStXXT2W"
      }
    },
    {
      "cell_type": "code",
      "source": [
        "num = int(input(\"Digite un numero: \"))\n",
        "\n",
        "if num % 2 == 0:\n",
        "    print('El numero', num, 'es par')\n",
        "else:\n",
        "    print('El numero', num, 'es impar')\n"
      ],
      "metadata": {
        "colab": {
          "base_uri": "https://localhost:8080/"
        },
        "id": "xLEy1q7TXX26",
        "outputId": "490084eb-a219-4c3b-97ea-4aab2a269124"
      },
      "execution_count": null,
      "outputs": [
        {
          "output_type": "stream",
          "name": "stdout",
          "text": [
            "Digite un numero: 23\n",
            "El numero 23 es impar\n"
          ]
        }
      ]
    },
    {
      "cell_type": "markdown",
      "source": [
        "5.- Programa en Python que lea 2 números enteros, usar una condición y analizar los dos números y desplegar cual de los números es el mayor."
      ],
      "metadata": {
        "id": "iQTpRoHMaD5v"
      }
    },
    {
      "cell_type": "code",
      "source": [
        "num1 = int(input(\"Digite un numero: \"))\n",
        "num2 = int(input(\"Digite un numero: \"))\n",
        "\n",
        "if num1 > num2:\n",
        "  print(\"El numero mayor es \" + str(num1))\n",
        "else:\n",
        "  if num2 > num1:\n",
        "    print(\"El numero mayor es \" + str(num2))\n"
      ],
      "metadata": {
        "colab": {
          "base_uri": "https://localhost:8080/"
        },
        "id": "-iswiCpZbB97",
        "outputId": "c34a9522-c39c-4594-dba7-feb51afa1e4b"
      },
      "execution_count": 11,
      "outputs": [
        {
          "output_type": "stream",
          "name": "stdout",
          "text": [
            "Digite un numero: 1\n",
            "Digite un numero: 32\n",
            "El numero mayor es 32\n"
          ]
        }
      ]
    },
    {
      "cell_type": "markdown",
      "source": [
        "6.- Programa en Python que lea 4 calificaciones de un alumno, calcular y desplegar el promedio acompañado de la leyenda APROBADO o REPROBADO"
      ],
      "metadata": {
        "id": "6pm6zfincK8k"
      }
    },
    {
      "cell_type": "code",
      "source": [
        "calif1 = int(input(\"Digite la calificacion: \"))\n",
        "calif2 = int(input(\"Digite la calificacion: \"))\n",
        "calif3 = int(input(\"Digite la calificacion: \"))\n",
        "calif4 = int(input(\"Digite la calificacion: \"))\n",
        "\n",
        "prom = (calif1+calif2+calif3+calif4)/4\n",
        "\n",
        "if prom >= 60:\n",
        "  print(\"Alumno aprobado\")\n",
        "else:\n",
        " if prom <= 59:\n",
        "  print(\"Alumno reprobado\")"
      ],
      "metadata": {
        "id": "yYBFz9iccM-y",
        "colab": {
          "base_uri": "https://localhost:8080/"
        },
        "outputId": "929e677e-5b93-4a3d-d2ec-41b0270dfa8b"
      },
      "execution_count": 18,
      "outputs": [
        {
          "output_type": "stream",
          "name": "stdout",
          "text": [
            "Digite la calificacion: 50\n",
            "Digite la calificacion: 50\n",
            "Digite la calificacion: 50\n",
            "Digite la calificacion: 50\n",
            "Alumno reprobado\n"
          ]
        }
      ]
    },
    {
      "cell_type": "markdown",
      "source": [
        "7.- Programa en Python que a través de opciones (1.- HOMBRE 2.- MUJER ) preguntar al usuario cual es su sexo y desplegar la leyenda “HOMBRE ”, “MUJER”\n",
        "\n"
      ],
      "metadata": {
        "id": "OL4jlTGXd0oX"
      }
    },
    {
      "cell_type": "code",
      "source": [
        "print(\"===Digite una opcion===\")\n",
        "print(\"\\n1)Hombre\")\n",
        "print(\"2)Mujer\")\n",
        "\n",
        "opc = int(input(\"\\nDigite 1 si es hombre o 2 si es mujer: \"))\n",
        "\n",
        "if opc == 1:\n",
        "  print(\"\\nHOMBRE\")\n",
        "else:\n",
        "  if opc == 2 :\n",
        "    print(\"\\nMUJER\")"
      ],
      "metadata": {
        "colab": {
          "base_uri": "https://localhost:8080/"
        },
        "id": "wCTmXChgd4Ki",
        "outputId": "28cb12b2-ac3c-4722-a209-e282c98eb01e"
      },
      "execution_count": 26,
      "outputs": [
        {
          "output_type": "stream",
          "name": "stdout",
          "text": [
            "===Digite una opcion===\n",
            "\n",
            "1)Hombre\n",
            "2)Mujer\n",
            "\n",
            "Digite 1 si es hombre o 2 si es mujer: 2\n",
            "\n",
            "MUJER\n"
          ]
        }
      ]
    },
    {
      "cell_type": "markdown",
      "source": [
        "8.- Programa en Python que lea un número entero, y desplegar si el número es “PAR” o “IMPAR” NOTA: EJERCICIOS PARA SER RESUELTOS USANDO EXCLUSIVAMENTE CONDICIONES COMPUESTO\n",
        "\n"
      ],
      "metadata": {
        "id": "8jNWZzIkfJia"
      }
    },
    {
      "cell_type": "code",
      "source": [
        "num = int(input(\"Digite un numero: \"))\n",
        "\n",
        "if num % 2 == 0:\n",
        "    print('El numero', num, 'es par')\n",
        "else:\n",
        "  if num % 2 != 0:\n",
        "    print('El numero', num, 'es impar')"
      ],
      "metadata": {
        "colab": {
          "base_uri": "https://localhost:8080/"
        },
        "id": "_m6f7jaxX8Kk",
        "outputId": "9428de63-abed-41ea-e32d-d61da00856d4"
      },
      "execution_count": 28,
      "outputs": [
        {
          "output_type": "stream",
          "name": "stdout",
          "text": [
            "Digite un numero: 424\n",
            "El numero 424 es par\n"
          ]
        }
      ]
    }
  ]
}