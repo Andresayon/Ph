{
  "nbformat": 4,
  "nbformat_minor": 0,
  "metadata": {
    "colab": {
      "provenance": [],
      "authorship_tag": "ABX9TyNceUVnGpk6QV7I1zsqbKID",
      "include_colab_link": true
    },
    "kernelspec": {
      "name": "python3",
      "display_name": "Python 3"
    },
    "language_info": {
      "name": "python"
    }
  },
  "cells": [
    {
      "cell_type": "markdown",
      "metadata": {
        "id": "view-in-github",
        "colab_type": "text"
      },
      "source": [
        "<a href=\"https://colab.research.google.com/github/Andresayon/Ph/blob/main/Untitled0.ipynb\" target=\"_parent\"><img src=\"https://colab.research.google.com/assets/colab-badge.svg\" alt=\"Open In Colab\"/></a>"
      ]
    },
    {
      "cell_type": "markdown",
      "source": [
        "1.- Programa en Python Mostrar un mensaje que diga “HOLA MUNDO” en un solo renglón usando 2 print"
      ],
      "metadata": {
        "id": "k0cu7MAJML9Z"
      }
    },
    {
      "cell_type": "code",
      "source": [
        "print(\"Hola mundo\")"
      ],
      "metadata": {
        "colab": {
          "base_uri": "https://localhost:8080/"
        },
        "id": "TfB3ZBP9MPMk",
        "outputId": "45793f66-dcfd-4fd1-c7af-64aa124e07ac"
      },
      "execution_count": 1,
      "outputs": [
        {
          "output_type": "stream",
          "name": "stdout",
          "text": [
            "Hola mundo\n"
          ]
        }
      ]
    },
    {
      "cell_type": "markdown",
      "source": [
        "2.- Programa en Python que lea 2 números, realizar la suma y desplegar la suma de los 2 números"
      ],
      "metadata": {
        "id": "BMQ4y7KyMaYL"
      }
    },
    {
      "cell_type": "code",
      "source": [
        "n1 = int(input(\"Digite el primer numero\"))\n",
        "n2 = int(input(\"Digite el segundo numero\"))\n",
        "\n",
        "suma = n1 + n2\n",
        "print (\"La suma de los dos numeros es: \" + str(n1+n2))"
      ],
      "metadata": {
        "colab": {
          "base_uri": "https://localhost:8080/"
        },
        "id": "itcPGgyrMdpk",
        "outputId": "83f76a54-319c-4ff0-d02f-efeec6297a8d"
      },
      "execution_count": 2,
      "outputs": [
        {
          "output_type": "stream",
          "name": "stdout",
          "text": [
            "Digite el primer numero2\n",
            "Digite el segundo numero4\n",
            "La suma de los dos numeros es: 6\n"
          ]
        }
      ]
    },
    {
      "cell_type": "markdown",
      "source": [
        "3.- Programa en Python que lea 2 números y realice las 4 operaciones básicas"
      ],
      "metadata": {
        "id": "5l2ZlQu3Mizw"
      }
    },
    {
      "cell_type": "code",
      "source": [
        "n1 = int(input(\"Digite el primer numero\"))\n",
        "n2 = int(input(\"Digite el segundo numero\"))\n",
        "\n",
        "suma = n1 + n2\n",
        "resta = n1 - n2\n",
        "multiplicacion = n1 * n2\n",
        "division = n1 / n2\n",
        "\n",
        "print (\"La suma de los dos numeros es: \" + str(n1+n2))\n",
        "print (\"La resta de los dos numeros es: \" + str(n1-n2))\n",
        "print (\"La multiplicacion de los dos numeros es: \" + str(n1*n2))\n",
        "print (\"La division de los dos numeros es: \" + str(n1/n2))"
      ],
      "metadata": {
        "id": "Bk3pp2w7MlPL"
      },
      "execution_count": null,
      "outputs": []
    },
    {
      "cell_type": "markdown",
      "source": [
        "4.- Programa en Python Que sirva para calcular el área de un triángulo"
      ],
      "metadata": {
        "id": "PPXjVeXcMssp"
      }
    },
    {
      "cell_type": "code",
      "source": [
        "base = int(input(\"Digite un valor para la base: \"))\n",
        "altura = int(input(\"Digite un valor para la altura: \"))\n",
        "\n",
        "area =  (base*altura)/2\n",
        "\n",
        "print(\"El area del triangulo es: \" + str(area))"
      ],
      "metadata": {
        "id": "x3Uk68ImMupY"
      },
      "execution_count": null,
      "outputs": []
    },
    {
      "cell_type": "markdown",
      "source": [
        "5.- Programa en Python que lea una medida en centímetros y desplegar la misma medida pero convertida en pies y pulgadas"
      ],
      "metadata": {
        "id": "U-v-mIUhMzPv"
      }
    },
    {
      "cell_type": "code",
      "source": [
        "metros = int(input(\"Digite los metros que desea congertir a pies y pulgadas: \"))\n",
        "\n",
        "pies = metros * 0.0328084\n",
        "pulgadas = metros * 0.393701\n",
        "\n",
        "print(\"Centimetros a pies: \" + str(pies))\n",
        "print(\"Centimetros a pulgadas: \" + str(pulgadas))"
      ],
      "metadata": {
        "id": "uLyOgkMDM0_F"
      },
      "execution_count": null,
      "outputs": []
    },
    {
      "cell_type": "markdown",
      "source": [
        "6.- Programa en Python que lea una temperatura en grados centígrados y desplegarla en Grados Fahrenheit y grados kelvin"
      ],
      "metadata": {
        "id": "ii0uy6QjM598"
      }
    },
    {
      "cell_type": "code",
      "source": [
        "centigrados = int(input(\"Digite los grados centigrados que desea convertir a Fahrenheit y Kelvin\"))\n",
        "\n",
        "fahrenheit = centigrados * (9/5)+32\n",
        "kelvin = centigrados + 273.15\n",
        "\n",
        "print(\"Grados centigrados a Fahrenheit: \" + str(fahrenheit))\n",
        "print(\"Grados centigrados a Kelvin: \" + str(kelvin))"
      ],
      "metadata": {
        "id": "bDPTUWZuM7zb"
      },
      "execution_count": null,
      "outputs": []
    },
    {
      "cell_type": "markdown",
      "source": [
        "7.- Programa en Python que lea 4 calificaciones de un alumno, desplegar el promedio del alumno"
      ],
      "metadata": {
        "id": "oR77hL8XNAA5"
      }
    },
    {
      "cell_type": "code",
      "source": [
        "calif1 = int(input(\"Digite la calificacion: \"))\n",
        "calif2 = int(input(\"Digite la calificacion: \"))\n",
        "calif3 = int(input(\"Digite la calificacion: \"))\n",
        "calif4 = int(input(\"Digite la calificacion: \"))\n",
        "\n",
        "prom = (calif1+calif2+calif3+calif4)/4\n",
        "\n",
        "print(\"El promedio del alumno es: \" + str(prom))"
      ],
      "metadata": {
        "id": "6tOstdrjNCJa"
      },
      "execution_count": null,
      "outputs": []
    }
  ]
}