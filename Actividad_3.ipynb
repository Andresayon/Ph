{
  "nbformat": 4,
  "nbformat_minor": 0,
  "metadata": {
    "colab": {
      "provenance": [],
      "authorship_tag": "ABX9TyPr9cjgzDKx13SAmL+oMtMj",
      "include_colab_link": true
    },
    "kernelspec": {
      "name": "python3",
      "display_name": "Python 3"
    },
    "language_info": {
      "name": "python"
    }
  },
  "cells": [
    {
      "cell_type": "markdown",
      "metadata": {
        "id": "view-in-github",
        "colab_type": "text"
      },
      "source": [
        "<a href=\"https://colab.research.google.com/github/Andresayon/Ph/blob/main/Actividad_3.ipynb\" target=\"_parent\"><img src=\"https://colab.research.google.com/assets/colab-badge.svg\" alt=\"Open In Colab\"/></a>"
      ]
    },
    {
      "cell_type": "markdown",
      "source": [
        "Ejecio 1"
      ],
      "metadata": {
        "id": "W0CDQpuZIUOH"
      }
    },
    {
      "cell_type": "code",
      "source": [
        "calif1 = int(input(\"Digite la primera calificacion: \"))\n",
        "calif2 = int(input(\"Digite la segunda calificacion: \"))\n",
        "calif3 = int(input(\"Digite la tercera calificacion: \"))\n",
        "\n",
        "\n",
        "prom = (calif1+calif2+calif3)/3\n",
        "\n",
        "if prom < 30:\n",
        "        print(\"Repetir\")\n",
        "elif prom < 60:\n",
        "        print(\"Extraordinario\")\n",
        "elif prom < 70:\n",
        "        print(\"Suficiente\")\n",
        "elif prom < 80:\n",
        "        print(\"Regular\")\n",
        "elif prom < 90:\n",
        "        print(\"Bien\")\n",
        "elif prom < 98:\n",
        "        print(\"Muy Bien\")\n",
        "elif prom <= 100:\n",
        "        print(\"Excelente\")\n",
        "else:\n",
        "        print(\"Error en el promedio\")"
      ],
      "metadata": {
        "id": "V794gVT2IZaa",
        "colab": {
          "base_uri": "https://localhost:8080/"
        },
        "outputId": "4d650675-2ce5-4bd8-d86f-58d72bb7b47b"
      },
      "execution_count": 5,
      "outputs": [
        {
          "output_type": "stream",
          "name": "stdout",
          "text": [
            "Digite la primera calificacion: 78\n",
            "Digite la segunda calificacion: 87\n",
            "Digite la tercera calificacion: 56\n",
            "Regular\n"
          ]
        }
      ]
    },
    {
      "cell_type": "markdown",
      "source": [
        "2.- Algoritmo que sirva para calcular el salario semanal de un trabajador donde se obtiene como dato de entrada las horas semanales trabajadas, el salario por hora"
      ],
      "metadata": {
        "id": "VA_e2SAQIZw0"
      }
    },
    {
      "cell_type": "code",
      "source": [
        "jor_nor = int(input(\"Ingrese las horas trabajadas durante la joranada(1-40): \"))\n",
        "sal_hora = int(input(\"Digite el salario por hora: \"))\n",
        "\n",
        "sal_horaTot_nor = jor_nor*sal_hora\n",
        "\n",
        "horas_extra = int(input(\"Digite las horas extra trabajadas: \"))\n",
        "\n",
        "print(\"\\nSu salario normal es: \"+str(sal_horaTot_nor))\n",
        "\n",
        "if horas_extra >= 1 and horas_extra <= 9:\n",
        "  horas_extra = sal_hora*horas_extra*2\n",
        "\n",
        "  print(\"Su salario por horas extra es: \"+str(horas_extra))\n",
        "  tot = horas_extra+sal_horaTot_nor\n",
        "  print((\"Su salario total es de: \")+str(tot))\n",
        "\n",
        "elif(horas_extra > 9):\n",
        "  horas_extra = sal_hora*horas_extra*3\n",
        "\n",
        "  print(\"Su salario por horas extra es: \"+str(horas_extra))\n",
        "  tot = horas_extra+sal_horaTot_nor\n",
        "  print((\"Su salario total es de: \")+str(tot))"
      ],
      "metadata": {
        "id": "ANfAG2LlId1W",
        "colab": {
          "base_uri": "https://localhost:8080/"
        },
        "outputId": "960d0af4-8b09-4693-dccb-1e94f589a426"
      },
      "execution_count": 6,
      "outputs": [
        {
          "output_type": "stream",
          "name": "stdout",
          "text": [
            "Ingrese las horas trabajadas durante la joranada(1-40): 40\n",
            "Digite el salario por hora: 50\n",
            "Digite las horas extra trabajadas: 9\n",
            "\n",
            "Su salario normal es: 2000\n",
            "Su salario por horas extra es: 900\n",
            "Su salario total es de: 2900\n"
          ]
        }
      ]
    },
    {
      "cell_type": "markdown",
      "source": [
        "3.- Algoritmo que sirva para desplegar el Total de una llamada telefónica donde se pide como datos de entrada los minutos y el tipo de llamada, se cobra de la siguiente manera"
      ],
      "metadata": {
        "id": "Adp9XfkrIeLn"
      }
    },
    {
      "cell_type": "code",
      "source": [
        "def calcular_costo_llamada(tipo_llamada, minutos):\n",
        "    if tipo_llamada == 1:\n",
        "        costo_total = 3.00\n",
        "    elif tipo_llamada == 2:\n",
        "        costo_total = 7.00 + max(0, minutos - 3) * 2.00\n",
        "    elif tipo_llamada == 3:\n",
        "        costo_total = 9.00 + max(0, minutos - 2) * 4.00\n",
        "    return costo_total\n",
        "\n",
        "minutos = float(input(\"Ingrese la cantidad de minutos que desea hablar: \"))\n",
        "print(\"\\n\")\n",
        "print(\"\\nTipos de llamada\")\n",
        "print(\"1. Llamada Local\")\n",
        "print(\"2. Llamada Nacional\")\n",
        "print(\"3. Llamada Internacional\")\n",
        "tipo_llamada = int(input(\"\\nIngrese la llamda que desea hacer: \"))\n",
        "\n",
        "subtotal = calcular_costo_llamada(tipo_llamada, minutos)\n",
        "iva = subtotal * 0.16\n",
        "total = subtotal + iva\n",
        "\n",
        "print(f\"\\nSubtotal: {subtotal:.2f}\")\n",
        "print(f\"IVA: {iva:.2f}\")\n",
        "print(f\"Total: {total:.2f}\")\n"
      ],
      "metadata": {
        "id": "wztw67HhIksj",
        "colab": {
          "base_uri": "https://localhost:8080/"
        },
        "outputId": "e2fb0697-9170-4976-f22b-d187adc33156"
      },
      "execution_count": 31,
      "outputs": [
        {
          "output_type": "stream",
          "name": "stdout",
          "text": [
            "Ingrese la cantidad de minutos que desea hablar: 6\n",
            "\n",
            "\n",
            "\n",
            "Tipos de llamada\n",
            "1. Llamada Local\n",
            "2. Llamada Nacional\n",
            "3. Llamada Internacional\n",
            "\n",
            "Ingrese la llamda que desea hacer: 2\n",
            "\n",
            "Subtotal: 13.00\n",
            "IVA: 2.08\n",
            "Total: 15.08\n"
          ]
        }
      ]
    },
    {
      "cell_type": "markdown",
      "source": [
        "4.- Algoritmo que sirva para calcular el Total a pagar por consumo de agua, donde el dato de entrada son los M3 de agua consumidos, Tomar en cuenta que se cobra escalonada de la Siguiente manera"
      ],
      "metadata": {
        "id": "gfpDkqMXIk3x"
      }
    },
    {
      "cell_type": "code",
      "source": [
        "agua_consu = int(input(\"Digite los M3 consumidos de agua consumida: \"))\n",
        "print(\"\\n\")\n",
        "\n",
        "if agua_consu <= 4:\n",
        "\n",
        " subto_agua = 50\n",
        " print(\"\\t      RANGO 1\")\n",
        "\n",
        " print(\"\\nSu subtotal consumido de agua: \"+str(subto_agua))\n",
        " iva3 = subto_agua*0.16\n",
        " print(\"IVA de: \"+str(iva3))\n",
        " totagua = subto_agua+iva3\n",
        " print(\"Su total por el consumo de agua es: \"+str(totagua))\n",
        "\n",
        "elif agua_consu <= 15:\n",
        " subto_agua = agua_consu*8\n",
        " print(\"\\t      RANGO 2\")\n",
        "\n",
        " print(\"S\\nu subtotal consumido de agua: \"+str(subto_agua))\n",
        " iva3 = subto_agua*0.16\n",
        " print(\"IVA de: \"+str(iva3))\n",
        " totagua = subto_agua+iva3\n",
        " print(\"Su total por el consumo de agua es: \"+str(totagua))\n",
        "\n",
        "elif agua_consu <= 50:\n",
        "  subto_agua = agua_consu*10\n",
        "  print(\"\\t      RANGO 3\")\n",
        "\n",
        "  print(\"\\nSu subtotal consumido de agua: \"+str(subto_agua))\n",
        "  iva3 = subto_agua*0.16\n",
        "  print(\"IVA de: \"+str(iva3))\n",
        "  totagua = subto_agua+iva3\n",
        "  print(\"Su total por el consumo de agua es: \"+str(totagua))\n",
        "\n",
        "elif agua_consu > 50:\n",
        "  subto_agua = agua_consu*11\n",
        "  print(\"\\t      RANGO 4\")\n",
        "\n",
        "  print(\"\\nSu subtotal consumido de agua: \"+str(subto_agua))\n",
        "  iva3 = subto_agua*0.16\n",
        "  print(\"IVA de: \"+str(iva3))\n",
        "  totagua = subto_agua+iva3\n",
        "  print(\"Su total por el consumo de agua es: \"+str(totagua))"
      ],
      "metadata": {
        "id": "vzTBl-oAIpZD",
        "colab": {
          "base_uri": "https://localhost:8080/"
        },
        "outputId": "f340c63d-3adf-488a-8c5f-6e4527683707"
      },
      "execution_count": 8,
      "outputs": [
        {
          "output_type": "stream",
          "name": "stdout",
          "text": [
            "Digite los M3 consumidos de agua consumida: 45\n",
            "\n",
            "\n",
            "\t      RANGO 3\n",
            "\n",
            "Su subtotal consumido de agua: 450\n",
            "IVA de: 72.0\n",
            "Su total por el consumo de agua es: 522.0\n"
          ]
        }
      ]
    },
    {
      "cell_type": "markdown",
      "source": [
        "5- En la materia de Metodología de la programación se aplican 5 exámenes, calcular el promedio final de la materia donde la calificación menor de los exámenes se anula y el promedio se calcula en base a 4 exámenes.\n",
        "\n",
        "Desplegar el promedio final."
      ],
      "metadata": {
        "id": "JBMah93eI0pC"
      }
    },
    {
      "cell_type": "code",
      "source": [
        "def calcular_prom(examenes):\n",
        "    calificaciones_ordenadas = sorted(examenes)\n",
        "    calificaciones_validas = calificaciones_ordenadas[1:]\n",
        "    promedio = sum(calificaciones_validas) / len(calificaciones_validas)\n",
        "    return promedio\n",
        "\n",
        "examenes = []\n",
        "for i in range(5):\n",
        "    calificacion = float(input(f\"Ingrese una calificacion {i + 1}: \"))\n",
        "    examenes.append(calificacion)\n",
        "\n",
        "promedio_final = calcular_prom(examenes)\n",
        "print(f\"El promedio final es de: {promedio_final:.2f}\")\n"
      ],
      "metadata": {
        "id": "8z8ZKP2BI1fz",
        "colab": {
          "base_uri": "https://localhost:8080/"
        },
        "outputId": "33868746-be70-476d-f112-0a00b6a350d3"
      },
      "execution_count": 28,
      "outputs": [
        {
          "output_type": "stream",
          "name": "stdout",
          "text": [
            "Ingrese una calificacion 1: 87\n",
            "Ingrese una calificacion 2: 66\n",
            "Ingrese una calificacion 3: 87\n",
            "Ingrese una calificacion 4: 93\n",
            "Ingrese una calificacion 5: 100\n",
            "El promedio final es de: 91.75\n"
          ]
        }
      ]
    },
    {
      "cell_type": "markdown",
      "source": [
        "6.- Algoritmo que sirva para el juego del CHINCHAMPU (Piedra, Papel, Tijera) para 1 jugador y la computadora, (usar condición anidada)\n",
        "\n"
      ],
      "metadata": {
        "id": "eUPodFYyJeld"
      }
    },
    {
      "cell_type": "code",
      "source": [
        "import random\n",
        "\n",
        "def juego_chin(jug, maquina):\n",
        "    if jugador == maquina:\n",
        "        return \"Es empate\"\n",
        "    elif jugador == \"piedra\":\n",
        "        if maquina == \"papel\":\n",
        "            return \"Gano la maquina\"\n",
        "        else:\n",
        "            return \"Eres el ganador\"\n",
        "    elif jugador == \"papel\":\n",
        "        if maquina == \"tijera\":\n",
        "            return \"Gana la maquina\"\n",
        "        else:\n",
        "            return \"Eres el ganador\"\n",
        "    elif jugador == \"tijera\":\n",
        "        if maquina == \"piedra\":\n",
        "            return \"Gano la maquina\"\n",
        "        else:\n",
        "            return \"Eres el ganador\"\n",
        "    else:\n",
        "        return \"Opcion incorrecta. Elegir piedra, papel o tijera.\"\n",
        "\n",
        "opciones = [\"piedra\", \"papel\", \"tijera\"]\n",
        "maquina = random.choice(opciones)\n",
        "\n",
        "print(\"Bienvenido al juego de Chinchampu\")\n",
        "\n",
        "print(\"Opciones: piedra, papel, tijera\")\n",
        "\n",
        "jugador = input(\"Elige: \").lower()\n",
        "\n",
        "resultado = juego_chin(jugador, maquina)\n",
        "print(f\"Computadora eligió: {maquina}\")\n",
        "print(resultado)\n"
      ],
      "metadata": {
        "id": "pvhTURdMJfGm",
        "colab": {
          "base_uri": "https://localhost:8080/"
        },
        "outputId": "12516fc5-57da-4e38-fa45-33f29a4b7650"
      },
      "execution_count": 9,
      "outputs": [
        {
          "output_type": "stream",
          "name": "stdout",
          "text": [
            "Bienvenido al juego de Chinchampu\n",
            "Opciones: piedra, papel, tijera\n",
            "Elige: papel\n",
            "Computadora eligió: papel\n",
            "Es empate\n"
          ]
        }
      ]
    },
    {
      "cell_type": "markdown",
      "source": [
        "7.- Algoritmo que sirva para el juego del CHINCHAMPU (Piedra, Papel, Tijera) para 1 jugador y la computadora, (usar selección múltiple)\n",
        "\n"
      ],
      "metadata": {
        "id": "6P_bZbZ1JfmO"
      }
    },
    {
      "cell_type": "code",
      "source": [
        "import random\n",
        "\n",
        "def juego_chinchampu(jugador, computadora):\n",
        "    if jugador == computadora:\n",
        "        return \"Empate\"\n",
        "    elif (jugador == \"piedra\" and computadora == \"tijera\") or (jugador == \"papel\" and computadora == \"piedra\") or (jugador == \"tijera\" and computadora == \"papel\"):\n",
        "        return \"Ganaste\"\n",
        "    else:\n",
        "        return \"Gano la maquina\"\n",
        "\n",
        "opciones = [\"piedra\", \"papel\", \"tijera\"]\n",
        "computadora = random.choice(opciones)\n",
        "\n",
        "print(\"Bienvenido al juego de Chinchampu\")\n",
        "print(\"Opciones: piedra, papel, tijera\")\n",
        "jugador = input(\"Elige: \").lower()\n",
        "\n",
        "if jugador in opciones:\n",
        "    resultado = juego_chinchampu(jugador, computadora)\n",
        "    print(f\"la maquina eligio: {computadora}\")\n",
        "    print(resultado)\n",
        "else:\n",
        "    print(\"Opcion incorrecta. Debes elegir piedra, papel o tijera.\")"
      ],
      "metadata": {
        "id": "BgV_BQ0vJiUT",
        "colab": {
          "base_uri": "https://localhost:8080/"
        },
        "outputId": "b6770db1-5286-413f-f766-fbfc5619d587"
      },
      "execution_count": 17,
      "outputs": [
        {
          "output_type": "stream",
          "name": "stdout",
          "text": [
            "Bienvenido al juego de Chinchampu\n",
            "Opciones: piedra, papel, tijera\n",
            "Elige: piedra\n",
            "la maquina eligio: tijera\n",
            "Ganaste\n"
          ]
        }
      ]
    },
    {
      "cell_type": "markdown",
      "source": [
        "8.- Una tienda de electrónica ofrece descuentos a sus clientes, dependiendo del tipo de producto que compren. Si el cliente compra una computadora, tiene un descuento del 5% en el precio de la computadora y un 10% de descuento en una impresora si la compra junto con la computadora. Si el cliente compra una televisión, tiene un descuento del 7% en el precio de la televisión y un 15% de descuento en una barra de sonido si la compra junto con la televisión. Si el cliente compra una consola de videojuegos, tiene un descuento del 10% en el precio de la consola y un 20% de descuento en un juego si lo compra junto con la consola. Escribe un programa que calcule el precio a pagar por un cliente, tomando en cuenta los descuentos correspondientes.\n",
        "\n"
      ],
      "metadata": {
        "id": "UMkQT5_9Jlaj"
      }
    },
    {
      "cell_type": "code",
      "source": [
        "def calcular_precio(produc, precio_base, accesorio=None):\n",
        "    descuento_producto = 0\n",
        "    descuento_accesorio = 0\n",
        "\n",
        "    if produc == \"computadora\":\n",
        "        descuento_producto = 0.05\n",
        "        if accesorio == \"impresora\":\n",
        "            descuento_accesorio = 0.10\n",
        "    elif produc == \"televisión\":\n",
        "        descuento_producto = 0.07\n",
        "        if accesorio == \"barra de sonido\":\n",
        "            descuento_accesorio = 0.15\n",
        "    elif produc == \"consola de videojuegos\":\n",
        "        descuento_producto = 0.10\n",
        "        if accesorio == \"juego\":\n",
        "            descuento_accesorio = 0.20\n",
        "\n",
        "    precio_final = precio_base * (1 - descuento_producto)\n",
        "\n",
        "    if accesorio:\n",
        "        precio_final -= precio_base * descuento_accesorio\n",
        "\n",
        "    return precio_final\n",
        "\n",
        "print(\"1)Computadora\")\n",
        "print(\"2)Television\")\n",
        "print(\"3)Consola de videojuegos\")\n",
        "produc = input(\"\\nIngrese el producto que desea comprar \")\n",
        "\n",
        "\n",
        "precio_base = float(input(\"Ingrese el precio base del producto: \"))\n",
        "print(\"1)Impresora\")\n",
        "print(\"2)Barra de sonido\")\n",
        "print(\"3)Juego\")\n",
        "accesorio = input(\"Ingrese un accesorio o no responder si no va a comprar algun accesorio: \")\n",
        "\n",
        "precio_total = calcular_precio(produc, precio_base, accesorio)\n",
        "print(f\"El precio a pagar por los productos es de: {precio_total:.2f}\")\n",
        "\n"
      ],
      "metadata": {
        "id": "LOPzmHBAJpDo",
        "colab": {
          "base_uri": "https://localhost:8080/"
        },
        "outputId": "99ede947-e5e3-47b9-e3d9-e1eed7f88e4a"
      },
      "execution_count": 26,
      "outputs": [
        {
          "output_type": "stream",
          "name": "stdout",
          "text": [
            "1)Computadora\n",
            "2)Television\n",
            "3)Consola de videojuegos\n",
            "\n",
            "Ingrese el producto que desea comprar computadora\n",
            "Ingrese el precio base del producto: 1000\n",
            "1)Impresora\n",
            "2)Barra de sonido\n",
            "3)Juego\n",
            "Ingrese un accesorio o no responder si no va a comprar algun accesorio: impresora\n",
            "El precio a pagar por los productos es de: 850.00\n"
          ]
        }
      ]
    },
    {
      "cell_type": "markdown",
      "source": [
        "9.- En una tienda de ropa, los precios de los productos cambian dependiendo de la temporada. Durante la temporada de verano, todos los productos tienen un descuento del 20%. Durante la temporada de invierno, los productos con etiqueta roja tienen un descuento del 30% y los productos con etiqueta verde tienen un descuento del 15%. Durante la temporada de primavera y otoño, los productos con etiqueta amarilla tienen un descuento del 10%. Escribe un programa que calcule el precio a pagar por un cliente, tomando en cuenta los descuentos correspondientes."
      ],
      "metadata": {
        "id": "_VgKWccIJ6GW"
      }
    },
    {
      "cell_type": "code",
      "source": [
        "print(\"\\t      Bienvenido a la tienda de ropa\")\n",
        "print(\"\\n1)Temporada de verano\")\n",
        "print(\"2)Temporada de invierno etiqueta roja\")\n",
        "print(\"3)Temporada de invierno etiqeuta verde\")\n",
        "print(\"4)Temporada de primavera\")\n",
        "print(\"5)Temporada de otoño\")\n",
        "\n",
        "temp = int(input(\"\\nDigite una opcion: \"))\n",
        "\n",
        "print(\"\\n\")\n",
        "if temp == 1:\n",
        "  print(\"==Temporada de verano==\")\n",
        "  desc = 167*0.20\n",
        "  temporada = 167 - desc\n",
        "  print(\"Su total a pagar por las prendas es de: \"+str(temporada))\n",
        "elif temp == 2:\n",
        "  print(\"==Temporada de invierno etiqueta roja==\")\n",
        "  desc = 199*0.30\n",
        "  temporada = 199 - desc\n",
        "  print(\"Su total a pagar por las prendas es de: \"+str(temporada))\n",
        "elif temp == 3:\n",
        "  print(\"==Temporada de invierno etiqueta verde==\")\n",
        "  desc = 220*0.15\n",
        "  temporada = 220 - desc\n",
        "  print(\"Su total a pagar por las prendas es de: \"+str(temporada))\n",
        "elif temp == 4:\n",
        "  print(\"==Temporada de primavera==\")\n",
        "  desc = 321*0.10\n",
        "  temporada = 321 - desc\n",
        "  print(\"Su total a pagar por las prendas es de: \"+str(temporada))\n",
        "elif temp == 5:\n",
        "  print(\"==Temporada de otoño==\")\n",
        "  desc = 200*0.10\n",
        "  temporada = 200 - desc\n",
        "  print(\"Su total a pagar por las prendas es de: \"+str(temporada))"
      ],
      "metadata": {
        "id": "n6FZLZPMJ8zQ",
        "colab": {
          "base_uri": "https://localhost:8080/"
        },
        "outputId": "b50bf067-4f14-40df-fb44-7345a34b8df1"
      },
      "execution_count": 4,
      "outputs": [
        {
          "output_type": "stream",
          "name": "stdout",
          "text": [
            "\t      Bienvenido a la tienda de ropa\n",
            "\n",
            "1)Temporada de verano\n",
            "2)Temporada de invierno etiqueta roja\n",
            "3)Temporada de invierno etiqeuta verde\n",
            "4)Temporada de primavera\n",
            "5)Temporada de otono\n",
            "\n",
            "Digite una opcion: 5\n",
            "\n",
            "\n",
            "==Temporada de otono==\n",
            "Su total a pagar por las prendas es de: 180.0\n"
          ]
        }
      ]
    },
    {
      "cell_type": "markdown",
      "source": [
        "10.- Un restaurante ofrece descuentos a sus clientes, dependiendo del día de la semana y del tipo de menú que pidan. Los lunes, los clientes que pidan el menú del día tienen un descuento del 10%. Los martes, los clientes que pidan el menú infantil tienen un descuento del 20%. Los miércoles, los clientes que pidan el menú vegetariano tienen un descuento del 15%. Los jueves, los clientes que pidan el menú del chef tienen un descuento del 5%. Los viernes, los clientes que pidan el menú del día tienen un descuento del 5%. Los sábados y domingos no hay descuentos. Escribe un programa que calcule el precio a pagar por un cliente, tomando en cuenta los descuentos correspondientes."
      ],
      "metadata": {
        "id": "a--JSmrOJ_K5"
      }
    },
    {
      "cell_type": "code",
      "source": [
        "print(\"\\t      Bienvenido al restaurante\")\n",
        "print(\"\\n1)Comer en lunes\")\n",
        "print(\"2)Comer en Martes\")\n",
        "print(\"3)Comer en Miercoles\")\n",
        "print(\"4)Comer en Jueves\")\n",
        "print(\"5)Comer en Viernes\")\n",
        "print(\"6)Comer en Sabado\")\n",
        "print(\"7)Comer en Domingo\")\n",
        "\n",
        "dia = int(input(\"\\nSelecciona una opcion: \"))\n",
        "\n",
        "print(\"\\n\")\n",
        "if dia == 1:\n",
        "  print(\"==Menu del dia==\")\n",
        "  desc = 115*0.10\n",
        "  menu = 115 - desc\n",
        "  print(\"Su total a pagar es de: \"+str(menu))\n",
        "elif dia == 2:\n",
        "  print(\"==Menu infantil==\")\n",
        "  desc = 99*0.20\n",
        "  menu = 99-desc\n",
        "  print(\"Su total a pagar es de: \"+str(menu))\n",
        "elif dia == 3:\n",
        "  print(\"==Menu vegetariano==\")\n",
        "  desc = 105*0.15\n",
        "  menu = 105-desc\n",
        "  print(\"Su total a pagar es de: \"+str(menu))\n",
        "elif dia == 4:\n",
        "  print(\"==Menu del chef==\")\n",
        "  desc = 150*0.05\n",
        "  menu = 150-desc\n",
        "  print(\"Su total a pagar es de: \"+str(menu))\n",
        "elif dia == 5:\n",
        "  print(\"==Menu del dia==\")\n",
        "  desc = 125*0.5\n",
        "  menu = 125-desc\n",
        "  print(\"Su total a pagar es de: \"+str(menu))\n",
        "elif dia == 6:\n",
        "  print(\"==Menu==\")\n",
        "  menu = 115\n",
        "  print(\"Su total a pagar es de: \"+str(menu))\n",
        "elif dia == 7:\n",
        "  print(\"==Menu==\")\n",
        "  menu = 135\n",
        "  print(\"Su total a pagar es de: \"+str(menu))\n",
        "\n",
        "\n",
        "\n",
        "\n",
        "\n",
        "\n"
      ],
      "metadata": {
        "colab": {
          "base_uri": "https://localhost:8080/"
        },
        "id": "kuk6BC-KKCM6",
        "outputId": "73f8a568-9fc2-4388-e62a-c48140556146"
      },
      "execution_count": null,
      "outputs": [
        {
          "output_type": "stream",
          "name": "stdout",
          "text": [
            "\t      Bienvenido al restaurante\n",
            "\n",
            "1)Comer en lunes\n",
            "2)Comer en Martes\n",
            "3)Comer en Miercoles\n",
            "4)Comer en Jueves\n",
            "5)Comer en Viernes\n",
            "6)Comer en Sabado\n",
            "7)Comer en Domingo\n",
            "\n",
            "Selecciona una opcion: 7\n",
            "\n",
            "\n",
            "==Menu==\n",
            "Su total a pagar es de: 135\n"
          ]
        }
      ]
    }
  ]
}