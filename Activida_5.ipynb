{
  "nbformat": 4,
  "nbformat_minor": 0,
  "metadata": {
    "colab": {
      "provenance": [],
      "authorship_tag": "ABX9TyNeAS04LuYp1QcL0U3jYb48",
      "include_colab_link": true
    },
    "kernelspec": {
      "name": "python3",
      "display_name": "Python 3"
    },
    "language_info": {
      "name": "python"
    }
  },
  "cells": [
    {
      "cell_type": "markdown",
      "metadata": {
        "id": "view-in-github",
        "colab_type": "text"
      },
      "source": [
        "<a href=\"https://colab.research.google.com/github/Andresayon/Ph/blob/main/Activida_5.ipynb\" target=\"_parent\"><img src=\"https://colab.research.google.com/assets/colab-badge.svg\" alt=\"Open In Colab\"/></a>"
      ]
    },
    {
      "cell_type": "markdown",
      "source": [
        "1.- Programa en Python que genere 40 números aleatorios entre el 0 y 200, desplegar los números y la leyenda de cada número si es par o impar , la cantidad de los números pares e impares así como la suma de los números pares o impares."
      ],
      "metadata": {
        "id": "yslEv8xxBS_a"
      }
    },
    {
      "cell_type": "code",
      "source": [
        "import random\n",
        "\n",
        "try:\n",
        "\n",
        "  impares = []\n",
        "  pares = []\n",
        "\n",
        "  suma_impares = 0\n",
        "  suma_pares = 0\n",
        "\n",
        "  for _ in range(40):\n",
        "    numero = random.randint(0, 200)\n",
        "\n",
        "    if numero % 2 == 0:\n",
        "      pares.append(numero)\n",
        "      suma_pares += numero\n",
        "    else:\n",
        "      impares.append(numero)\n",
        "      suma_impares += (numero)\n",
        "\n",
        "  print(\"\\tLos numero generados\")\n",
        "  for numero in pares + impares:\n",
        "   if numero in pares:\n",
        "      print(f\"{numero} Es numero par\")\n",
        "  else:\n",
        "      print(f\"{numero} Es numero impar\")\n",
        "\n",
        "\n",
        "\n",
        "  print(f\"Los numeros pares: {len(pares)}\")\n",
        "  print(f\"La suma de los numero pares es: {suma_pares}\")\n",
        "  print(f\"nLos numeros impares: {len(impares)}\")\n",
        "  print(f\"La suma de los numero impares: {suma_impares}\")\n",
        "\n",
        "except ValueError:\n",
        "  print(\"Digite un tipo de dato valido\")\n"
      ],
      "metadata": {
        "id": "XBsHUr6KBYCC",
        "colab": {
          "base_uri": "https://localhost:8080/"
        },
        "outputId": "73e92c53-518f-417e-e106-2d894f30f07b"
      },
      "execution_count": null,
      "outputs": [
        {
          "output_type": "stream",
          "name": "stdout",
          "text": [
            "\tLos numero generados\n",
            "16 Es numero par\n",
            "70 Es numero par\n",
            "116 Es numero par\n",
            "184 Es numero par\n",
            "92 Es numero par\n",
            "38 Es numero par\n",
            "22 Es numero par\n",
            "124 Es numero par\n",
            "154 Es numero par\n",
            "74 Es numero par\n",
            "28 Es numero par\n",
            "152 Es numero par\n",
            "182 Es numero par\n",
            "106 Es numero par\n",
            "64 Es numero par\n",
            "156 Es numero par\n",
            "200 Es numero par\n",
            "88 Es numero par\n",
            "140 Es numero par\n",
            "118 Es numero par\n",
            "60 Es numero par\n",
            "78 Es numero par\n",
            "3 Es numero impar\n",
            "Los numeros pares: 22\n",
            "La suma de los numero pares es: 2262\n",
            "nLos numeros impares: 18\n",
            "La suma de los numero impares: 2194\n"
          ]
        }
      ]
    },
    {
      "cell_type": "markdown",
      "source": [
        "2.- Programa en Python que despliegue la tabla de multiplicar de un número dado (número entre el 1 y 20)."
      ],
      "metadata": {
        "id": "A_845HtMKHvb"
      }
    },
    {
      "cell_type": "code",
      "source": [
        "\n",
        "try:\n",
        "\n",
        "  num = int(input(\"Digite un numero de entre el 1 al 20: \"))\n",
        "\n",
        "  if 1<= num <=20:\n",
        "    print(f\"\\tLa tabla de multiplicar{num}\")\n",
        "    for i in range(1, 11):\n",
        "\n",
        "      resultado = i*num\n",
        "      print(f\"{num}X{i} = {resultado}\")\n",
        "  else:\n",
        "    print(\"El numero indicado no es valido, tiene que se un numero de entre 1 y 20\")\n",
        "\n",
        "except ValueError:\n",
        "  print(\"Tipo de dato no valido, digite un numero entero\")\n",
        "\n",
        "\n"
      ],
      "metadata": {
        "colab": {
          "base_uri": "https://localhost:8080/"
        },
        "id": "dk-NU9qWJBzd",
        "outputId": "5d623411-a613-4a9e-c9d6-c14762a9fc76"
      },
      "execution_count": null,
      "outputs": [
        {
          "output_type": "stream",
          "name": "stdout",
          "text": [
            "Digite un numero de entre el 1 al 20: 20\n",
            "\tLa tabla de multiplicar20\n",
            "20X1 = 20\n",
            "20X2 = 40\n",
            "20X3 = 60\n",
            "20X4 = 80\n",
            "20X5 = 100\n",
            "20X6 = 120\n",
            "20X7 = 140\n",
            "20X8 = 160\n",
            "20X9 = 180\n",
            "20X10 = 200\n"
          ]
        }
      ]
    },
    {
      "cell_type": "markdown",
      "source": [
        "3.- Programa en Python que lea una calificación, las calificación deberá estar en el rango de 0 a 100, si hay un error de captura, mostrar mensaje de error. con la calificación correcta mostrar msg de aprobado reprobado."
      ],
      "metadata": {
        "id": "Wb4q4awYNiZw"
      }
    },
    {
      "cell_type": "code",
      "source": [
        "try:\n",
        "\n",
        "    calif = float(input(\"Digite un calificacion de entre el 0 al 100: \"))\n",
        "\n",
        "    if calif >=0 and calif <=100:\n",
        "\n",
        "      if calif >= 60 and calif <=100:\n",
        "        print(\"Aprobado\")\n",
        "      else:\n",
        "        print(\"Reprobado\")\n",
        "\n",
        "    else:\n",
        "      print(\"Digite un numero de entre el 0 al 100\")\n",
        "\n",
        "except ValueError:\n",
        "  print(\"Tipo de dato no valido, por favor digite un numero entero\")\n",
        "\n",
        "\n",
        "\n"
      ],
      "metadata": {
        "colab": {
          "base_uri": "https://localhost:8080/"
        },
        "id": "JYyFDz3LNxi7",
        "outputId": "1081aabd-fdb4-43e8-bfac-914272909b23"
      },
      "execution_count": null,
      "outputs": [
        {
          "output_type": "stream",
          "name": "stdout",
          "text": [
            "Digite un calificacion de entre el 0 al 100: 20\n",
            "Reprobado\n"
          ]
        }
      ]
    },
    {
      "cell_type": "markdown",
      "source": [
        "4.- Programa en Python que lea n cantidad de números enteros dentro de un rango dado (> 0 ) , el programa deberá terminar cuando el usuario introduzca el número cero.\n",
        "\n",
        "desplegar la suma de números y la media."
      ],
      "metadata": {
        "id": "fcWJ-hifQjvX"
      }
    },
    {
      "cell_type": "code",
      "source": [
        "try:\n",
        "\n",
        "\n",
        "    suma = 0\n",
        "    cantidad_Numeros = 0\n",
        "\n",
        "    for i in range(1, 15):\n",
        "        numero = int(input(\"Digite un numero: \"))\n",
        "\n",
        "        if numero == 0:\n",
        "            break\n",
        "\n",
        "\n",
        "        if numero > 0:\n",
        "            suma += numero\n",
        "            cantidad_Numeros += 1\n",
        "        else:\n",
        "            print(\"Incorrecto, el nuemero debe ser mayor a cero\")\n",
        "\n",
        "\n",
        "    if cantidad_Numeros > 0:\n",
        "        media = suma/cantidad_Numeros\n",
        "        print(f\"La suma de los numeros: {suma}\")\n",
        "        print(f\"La media de los numeros es: {media}\")\n",
        "\n",
        "\n",
        "except ValueError:\n",
        "  print(\"Tipo de dato invalido, vuelva a correr el programa y digite solo numeros enteros\")\n",
        "\n",
        "\n",
        "\n",
        "\n",
        "\n",
        "\n",
        "\n",
        "\n"
      ],
      "metadata": {
        "id": "d-dgAOFaQnG9",
        "colab": {
          "base_uri": "https://localhost:8080/"
        },
        "outputId": "495a5543-8d64-46fd-b33d-af8c5fc58807"
      },
      "execution_count": null,
      "outputs": [
        {
          "output_type": "stream",
          "name": "stdout",
          "text": [
            "Digite un numero: 29\n",
            "Digite un numero: 19\n",
            "Digite un numero: 43\n",
            "Digite un numero: 28\n",
            "Digite un numero: 1\n",
            "Digite un numero: 5\n",
            "Digite un numero: 0\n",
            "La suma de los numeros: 125\n",
            "La media de los numeros es: 20.833333333333332\n"
          ]
        }
      ]
    },
    {
      "cell_type": "markdown",
      "source": [
        "5.- Programa en Python que sirva para leer el promedio de una materia. donde el usuario tendrá un máximo de 3 oportunidades de cursar la materia, si el promedio es aprobado, felicitarlo y continuar el siguiente semestre, si promedio es reprobado deberá salir mensaje de repetir materia o es baja académica si ha reprobado 3 veces."
      ],
      "metadata": {
        "id": "WrGiuYLWY8Uh"
      }
    },
    {
      "cell_type": "code",
      "source": [
        "try:\n",
        "\n",
        "\n",
        "  intentos = 0\n",
        "\n",
        "  for _ in range(3):\n",
        "\n",
        "      califFin = float(input(\"Digite la califacion \"))\n",
        "\n",
        "      if califFin >=60:\n",
        "       print(\"Aprobado\")\n",
        "       break\n",
        "\n",
        "      else:\n",
        "       intentos+=1\n",
        "      if intentos <3:\n",
        "         print(\"Promedio repronado, intenta de nuevo\")\n",
        "      else:\n",
        "          print(\"Reprbaste las 3 veces, por lo tanto estas dado de baja\")\n",
        "          break\n",
        "\n",
        "\n",
        "except ValueError:\n",
        "  print(\"Tipo de dato no valido, por favor digite un numero entero\")"
      ],
      "metadata": {
        "id": "cF5MF3HyZGNu",
        "colab": {
          "base_uri": "https://localhost:8080/"
        },
        "outputId": "d6b1440b-c9e2-4754-fb55-f3b78ca6fd04"
      },
      "execution_count": null,
      "outputs": [
        {
          "output_type": "stream",
          "name": "stdout",
          "text": [
            "Digite la califacion 20\n",
            "Promedio repronado, intenta de nuevo\n",
            "Digite la califacion 23\n",
            "Promedio repronado, intenta de nuevo\n",
            "Digite la califacion 12\n",
            "Reprbaste las 3 veces, por no tanto estas dado de baja\n"
          ]
        }
      ]
    },
    {
      "cell_type": "markdown",
      "source": [
        "                                     PARTE #2"
      ],
      "metadata": {
        "id": "ntM8wfrsZsmE"
      }
    },
    {
      "cell_type": "markdown",
      "source": [
        "1.- función que lea n cantidad de números hasta que el usuario lo desee, desplegar la suma de los números, media y valor de los números mayores y menores."
      ],
      "metadata": {
        "id": "UrHhlpc-uVUU"
      }
    },
    {
      "cell_type": "code",
      "source": [
        "def suma_media_max_min(cantidadNumeros):\n",
        "    n = []\n",
        "\n",
        "    for _ in range(cantidadNumeros):\n",
        "        try:\n",
        "            numero = float(input(f\"Digite un numero {len(n) + 1}: \"))\n",
        "            n.append(numero)\n",
        "        except ValueError:\n",
        "            print(\"Este es un numero no valido\")\n",
        "\n",
        "\n",
        "    if len(n) == 0:\n",
        "        print(\"No digistaste ningun numero.\")\n",
        "    else:\n",
        "        suma = sum(n)\n",
        "\n",
        "        media = suma/len(n)\n",
        "\n",
        "        mayor = max(n)\n",
        "        menor = min(n)\n",
        "\n",
        "\n",
        "        print(\"La suma de los numeros es:\", suma)\n",
        "        print(\"La media de los numeros es:\", media)\n",
        "        print(\"El numero mayor es:\", mayor)\n",
        "        print(\"El numero menor es:\", menor)\n",
        "\n",
        "\n",
        "suma_media_max_min(5)\n"
      ],
      "metadata": {
        "colab": {
          "base_uri": "https://localhost:8080/"
        },
        "id": "rrI0b2H5sQM7",
        "outputId": "35d2c371-1a15-46a2-ff9b-79a6b841f28b"
      },
      "execution_count": null,
      "outputs": [
        {
          "output_type": "stream",
          "name": "stdout",
          "text": [
            "Digite un numero 1: 5\n",
            "Digite un numero 2: 5\n",
            "Digite un numero 3: 7\n",
            "Digite un numero 4: 9\n",
            "Digite un numero 5: 7\n",
            "La suma de los numeros es: 33.0\n",
            "La media de los numeros es: 6.6\n",
            "El numero mayor es: 9.0\n",
            "El numero menor es: 5.0\n"
          ]
        }
      ]
    },
    {
      "cell_type": "markdown",
      "source": [
        "2.- función que genere 15 números impares entre 10 y 60 o máximo de 25 números. desplegar la media de los pares y media de impares."
      ],
      "metadata": {
        "id": "iP8lTX1huZh6"
      }
    },
    {
      "cell_type": "code",
      "source": [
        "import random\n",
        "\n",
        "def num_random(maxima=25):\n",
        "    impares = []\n",
        "    numeros_generados = 0\n",
        "\n",
        "    for _ in range(maximo):\n",
        "        numero = random.randint(10, 60)\n",
        "\n",
        "\n",
        "        if numero % 2 != 0:\n",
        "            impares.append(numero)\n",
        "            numeros_generados += 1\n",
        "\n",
        "        if numeros_generados == 15:\n",
        "            break\n",
        "\n",
        "    return impares\n",
        "\n",
        "def media_pares_impares(numeros_impares):\n",
        "    numeros_pares = [num for num in numeros_impares if num % 2 == 0]\n",
        "\n",
        "    media_impares = sum(numeros_impares) / len(numeros_impares)\n",
        "    media_pares = sum(numeros_pares) / len(numeros_pares) if numeros_pares else 0\n",
        "\n",
        "    return media_impares, media_pares\n",
        "\n",
        "\n",
        "numeros_impares_generados = num_random()\n",
        "\n",
        "\n",
        "media_impares, media_pares = media_pares_impares(numeros_impares_generados)\n",
        "\n",
        "\n",
        "print(\"Los numero impares son:\", numeros_impares_generados)\n",
        "print(\"La media de los numero impares es de:\", media_impares)\n",
        "print(\"La media de los numeros pares es de\", media_pares)\n"
      ],
      "metadata": {
        "colab": {
          "base_uri": "https://localhost:8080/"
        },
        "id": "7P94T7KeungC",
        "outputId": "bff33929-611d-4c1f-8f32-e1f2e252fd76"
      },
      "execution_count": null,
      "outputs": [
        {
          "output_type": "stream",
          "name": "stdout",
          "text": [
            "Los numero impares son: [25, 15, 23, 13, 29, 37, 55, 11, 35, 45, 49, 35, 57, 25, 21]\n",
            "La media de los numero impares es de: 31.666666666666668\n",
            "La media de los numeros pares es de 0\n"
          ]
        }
      ]
    },
    {
      "cell_type": "markdown",
      "source": [
        "3.- función que sirva para leer y validar un número dentro de un rango dado por el usuario. repetir esta acción hasta que el usuario lo desee, desplegar cantidad de números y promedio de los números..\n",
        "\n"
      ],
      "metadata": {
        "id": "sftWSxOhuntT"
      }
    },
    {
      "cell_type": "code",
      "source": [
        "def promedio():\n",
        "    numeros = []\n",
        "\n",
        "    rango_minimo = float(input(\"Digite el rango minimo: \"))\n",
        "    rango_maximo = float(input(\"Digite en rango maximo: \"))\n",
        "\n",
        "    while True:\n",
        "        try:\n",
        "            numero = float(input(\"Digite un numero o un 0 si desea calcular el promedio: \"))\n",
        "\n",
        "\n",
        "            if numero == 0:\n",
        "                break\n",
        "\n",
        "            if numero >= rango_minimo and numero <= rango_maximo:\n",
        "                numeros.append(numero)\n",
        "            else:\n",
        "                print(\"Este numer no se ecunetra dentro del rango\")\n",
        "        except ValueError:\n",
        "            print(\"Por favor digite un numero que sea valido\")\n",
        "\n",
        "    if len(numeros) == 0:\n",
        "        print(\"No se digito ningun numero\")\n",
        "    else:\n",
        "        cantidad_numeros = len(numeros)\n",
        "        suma = 0\n",
        "        for num in numeros:\n",
        "            suma +=num\n",
        "        promedio = suma/cantidad_numeros\n",
        "\n",
        "\n",
        "        print(f\"Los numero digitados: {cantidad_numeros}\")\n",
        "        print(f\"El promedio de los numeros: {promedio}\")\n",
        "\n",
        "\n",
        "promedio()"
      ],
      "metadata": {
        "colab": {
          "base_uri": "https://localhost:8080/"
        },
        "id": "1upegjNZupqT",
        "outputId": "67b1186a-2769-486a-a564-532aa2281020"
      },
      "execution_count": null,
      "outputs": [
        {
          "output_type": "stream",
          "name": "stdout",
          "text": [
            "Digite el rango minimo: 1\n",
            "Digite en rango maximo: 10\n",
            "Digite un numero o un 0 si desea calcular el promedio: 2\n",
            "Digite un numero o un 0 si desea calcular el promedio: 3\n",
            "Digite un numero o un 0 si desea calcular el promedio: 4\n",
            "Digite un numero o un 0 si desea calcular el promedio: 0\n",
            "Los numero digitados: 3\n",
            "El promedio de los numeros: 3.0\n"
          ]
        }
      ]
    },
    {
      "cell_type": "markdown",
      "source": [
        "4.- función que reciba como parámetro los valores para el área de un triángulo y retorne su resultado"
      ],
      "metadata": {
        "id": "P702BCNBup1S"
      }
    },
    {
      "cell_type": "code",
      "source": [
        "\n",
        "\n",
        "  def area_triangulo(base, altura):\n",
        "    area = (base * altura) / 2\n",
        "    return area\n",
        "\n",
        "\n",
        "  base = 9\n",
        "  altura = 34\n",
        "\n",
        "  area_del_triangulo = area_triangulo(base, altura)\n",
        "  print(f\"La area de un triagulo con base de {base} y una altura de {altura} es {area_del_triangulo}\")\n",
        "\n",
        "\n",
        "\n"
      ],
      "metadata": {
        "colab": {
          "base_uri": "https://localhost:8080/"
        },
        "id": "RkofxqLousna",
        "outputId": "bd580ab2-f3a2-4f5c-c1ba-3bbfc89356a5"
      },
      "execution_count": null,
      "outputs": [
        {
          "output_type": "stream",
          "name": "stdout",
          "text": [
            "La area de un triagulo con base de 9 y una altura de 34 es 153.0\n"
          ]
        }
      ]
    },
    {
      "cell_type": "markdown",
      "source": [
        "5.- función que sirva para validar un número dentro de un rango dado."
      ],
      "metadata": {
        "id": "VNAPL2OAustf"
      }
    },
    {
      "cell_type": "code",
      "source": [
        "\n",
        "\n",
        "  def validar_numero(numero,minimo,maximo):\n",
        "    for i in range(minimo, maximo + 1):\n",
        "        if num == i:\n",
        "            return True\n",
        "    return False\n",
        "\n",
        "\n",
        "  num = 54\n",
        "  minimo = 2\n",
        "  maximo = 98\n",
        "\n",
        "  if validar_numero(numero, minimo, maximo):\n",
        "    print(f\"{num} Si esta dentro de este rango [{minimo}, {maximo}]\")\n",
        "  else:\n",
        "    print(f\"{num} No esta dentro de eset rango [{minimo}, {maximo}]\")\n"
      ],
      "metadata": {
        "colab": {
          "base_uri": "https://localhost:8080/"
        },
        "id": "gk_7gxpIws7T",
        "outputId": "d8b74f37-1661-42fc-9b8e-576835c588f3"
      },
      "execution_count": null,
      "outputs": [
        {
          "output_type": "stream",
          "name": "stdout",
          "text": [
            "54 Si esta dentro de este rango [2, 98]\n"
          ]
        }
      ]
    }
  ]
}