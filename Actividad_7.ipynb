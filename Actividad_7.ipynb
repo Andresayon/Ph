{
  "nbformat": 4,
  "nbformat_minor": 0,
  "metadata": {
    "colab": {
      "provenance": [],
      "authorship_tag": "ABX9TyOzFmLpI3ET9KkemyO7a7fJ",
      "include_colab_link": true
    },
    "kernelspec": {
      "name": "python3",
      "display_name": "Python 3"
    },
    "language_info": {
      "name": "python"
    }
  },
  "cells": [
    {
      "cell_type": "markdown",
      "metadata": {
        "id": "view-in-github",
        "colab_type": "text"
      },
      "source": [
        "<a href=\"https://colab.research.google.com/github/Andresayon/Ph/blob/main/Actividad_7.ipynb\" target=\"_parent\"><img src=\"https://colab.research.google.com/assets/colab-badge.svg\" alt=\"Open In Colab\"/></a>"
      ]
    },
    {
      "cell_type": "code",
      "source": [
        "import random"
      ],
      "metadata": {
        "id": "NhBH-wNFJtHe"
      },
      "execution_count": 31,
      "outputs": []
    },
    {
      "cell_type": "markdown",
      "source": [
        "1.- Función que utilice una lista con los nombres de tus mascotas, o artistas favoritos, (minimo 5, maximo 10) imprimir las cadenas y la cantidad de caracteres de cada cadena.  "
      ],
      "metadata": {
        "id": "iknU38nvJtcR"
      }
    },
    {
      "cell_type": "code",
      "source": [
        "def nombres_caracteres(lista):\n",
        "    for nombre in lista:\n",
        "        tamano = len(nombre)\n",
        "        print(f\"Nombre: {nombre}, Tiene {tamano} caracteres\")\n",
        "\n",
        "nombres_elegidos = [\"Rigby\", \"Mapache \", \"Pincki\", \"Kovy\", \"Layla\"]\n",
        "\n",
        "nombres_caracteres(nombres_elegidos)"
      ],
      "metadata": {
        "colab": {
          "base_uri": "https://localhost:8080/"
        },
        "id": "3YWiSIX5Jtog",
        "outputId": "4105a861-9071-45ce-cdbd-71203f6cab0a"
      },
      "execution_count": null,
      "outputs": [
        {
          "output_type": "stream",
          "name": "stdout",
          "text": [
            "Nombre: Rigby, Tiene 5 caracteres\n",
            "Nombre: Mapache , Tiene 8 caracteres\n",
            "Nombre: Pincki, Tiene 6 caracteres\n",
            "Nombre: Kovy, Tiene 4 caracteres\n",
            "Nombre: Layla, Tiene 5 caracteres\n"
          ]
        }
      ]
    },
    {
      "cell_type": "markdown",
      "source": [
        "2.-Programa que utilice 2 funciones,\n",
        "\n",
        "Función que genere y regrese una lista con 10 números aleatorios entre el 30 y 50 (no repetidos).\n",
        "Función que reciba una lista , Imprimir la lista (Indice y Valor )"
      ],
      "metadata": {
        "id": "f9sJ7ILCKwom"
      }
    },
    {
      "cell_type": "code",
      "source": [
        "def numeros_generados():\n",
        "    numeros = []\n",
        "    while len(numeros) < 10:\n",
        "        num_alea = random.randint(30, 50)\n",
        "        if num_alea not in numeros:\n",
        "            numeros.append(num_alea)\n",
        "    return numeros\n",
        "\n",
        "def numeros_imprisos_posicion(lista):\n",
        "    for indice, valor in enumerate(lista):\n",
        "        print(f\"El numero en la posicion {indice}: vale {valor}\")\n",
        "\n",
        "num_alea = numeros_generados()\n",
        "numeros_imprisos_posicion(num_alea)"
      ],
      "metadata": {
        "id": "YP4TP7qkLGJi",
        "outputId": "86959bad-9123-4d5a-90a1-2818026647da",
        "colab": {
          "base_uri": "https://localhost:8080/"
        }
      },
      "execution_count": null,
      "outputs": [
        {
          "output_type": "stream",
          "name": "stdout",
          "text": [
            "El numero en la posicion 0: vale 36\n",
            "El numero en la posicion 1: vale 46\n",
            "El numero en la posicion 2: vale 37\n",
            "El numero en la posicion 3: vale 31\n",
            "El numero en la posicion 4: vale 35\n",
            "El numero en la posicion 5: vale 38\n",
            "El numero en la posicion 6: vale 45\n",
            "El numero en la posicion 7: vale 41\n",
            "El numero en la posicion 8: vale 33\n",
            "El numero en la posicion 9: vale 42\n"
          ]
        }
      ]
    },
    {
      "cell_type": "markdown",
      "source": [
        "3.-Escribe una función que reciba dos listas de números del mismo tamaño y calcule la suma de los elementos correspondientes de cada lista. (regresar una nueva lista) . Luego, muestra una lista con los resultados de cada suma. Nota: si las listas no son del mismo tamaño mandar msge y utilizar el tamaño de la lista mas pequeña)"
      ],
      "metadata": {
        "id": "2znnsxd6NBK2"
      }
    },
    {
      "cell_type": "code",
      "source": [
        "def suma_de_listas(lista1, lista2):\n",
        "\n",
        "    if len(lista1) != len(lista2):\n",
        "        print(\"Las listas no son de la misma longitud\")\n",
        "        min_len = min(len(lista1), len(lista2))\n",
        "    else:\n",
        "        min_len = len(lista1)\n",
        "\n",
        "    resultados=[]\n",
        "\n",
        "    for i in range(min_len):\n",
        "        suma=lista1[i] + lista2[i]\n",
        "        resultados.append(suma)\n",
        "\n",
        "    print(\"La lista 1:\", lista1)\n",
        "    print(\"La lista 2:\", lista2)\n",
        "    print(\"La suma de ambas listas es:\", resultados)\n",
        "\n",
        "    return resultados\n",
        "\n",
        "lista1 = [1, 2, 3, 4]\n",
        "lista2 = [5, 6, 7, 8]\n",
        "resultado = suma_de_listas(lista1, lista2)"
      ],
      "metadata": {
        "colab": {
          "base_uri": "https://localhost:8080/"
        },
        "id": "uKdw_NqdNKjm",
        "outputId": "cc4994e5-03a8-49b5-a4c6-0f25541ce43e"
      },
      "execution_count": null,
      "outputs": [
        {
          "output_type": "stream",
          "name": "stdout",
          "text": [
            "La lista 1: [1, 2, 3, 4]\n",
            "La lista 2: [5, 6, 7, 8]\n",
            "La suma de ambas listas es: [6, 8, 10, 12]\n"
          ]
        }
      ]
    },
    {
      "cell_type": "markdown",
      "source": [
        "4.- Escribe una función llamada eliminar_duplicados que reciba una lista como parámetro y elimine los elementos duplicados. El resultado debe ser una nueva lista sin duplicados. Pide al usuario que ingrese una lista y luego llama a la función eliminar_duplicados para mostrar la lista sin duplicados. (Solo Numeros enteros, validar)\n",
        "\n"
      ],
      "metadata": {
        "id": "PLyXhJ9gOuEm"
      }
    },
    {
      "cell_type": "code",
      "source": [
        "def eliminar_numeros(lista):\n",
        "    lista_sin_duplicados = []\n",
        "    for elemento in lista:\n",
        "        if elemento not in lista_sin_duplicados:\n",
        "            lista_sin_duplicados.append(elemento)\n",
        "    return lista_sin_duplicados\n",
        "\n",
        "def obtener_lista_enteros():\n",
        "    lista = []\n",
        "    while True:\n",
        "        try:\n",
        "            entrada = input(\"Digite un numero entero o dejala vacia para obtener la lista: \")\n",
        "            if entrada == \"\":\n",
        "                break\n",
        "            numero = int(entrada)\n",
        "            lista.append(numero)\n",
        "        except ValueError:\n",
        "            print(\"Tiene que ser un numero entero.\")\n",
        "    return lista\n",
        "\n",
        "if __name__ == \"__main__\":\n",
        "    lista = obtener_lista_enteros()\n",
        "    lista_sin_duplicados = eliminar_numeros(lista)\n",
        "    print(\"LISTA DIGITADA:\", lista)\n",
        "    print(\"NEUVA LISAT SIN REPETIR:\", lista_sin_duplicados)\n",
        "\n"
      ],
      "metadata": {
        "id": "-9QVdDDuOw1_",
        "colab": {
          "base_uri": "https://localhost:8080/"
        },
        "outputId": "58acd002-d371-4f1c-c82e-6184443ee731"
      },
      "execution_count": null,
      "outputs": [
        {
          "output_type": "stream",
          "name": "stdout",
          "text": [
            "Digite un numero entero o dejala vacia para obtener la lista: 1 \n",
            "Digite un numero entero o dejala vacia para obtener la lista: 2\n",
            "Digite un numero entero o dejala vacia para obtener la lista: 1\n",
            "Digite un numero entero o dejala vacia para obtener la lista: \n",
            "LISTA DIGITADA: [1, 2, 1]\n",
            "NEUVA LISAT SIN REPETIR: [1, 2]\n"
          ]
        }
      ]
    },
    {
      "cell_type": "markdown",
      "source": [
        "Escribe una función que calcule la media y la mediana de una lista de números enteros.\n",
        "\n",
        "La media es la suma de todos los elementos y dividido entre la cantidad de elementos\n",
        "\n",
        "La mediana es el valor que queda en la mitad de la lista cuando se ordena de forma ascendente. Si la lista tiene un número par de elementos, la mediana se calcula como el promedio de los dos valores centrales. Puedes utilizar el método sort() para ordenar la lista y luego calcular la mediana según el tamaño de la lista.\n",
        "\n"
      ],
      "metadata": {
        "id": "Fx9y48P7aDIz"
      }
    },
    {
      "cell_type": "code",
      "source": [
        "def media(lista):\n",
        "    suma = sum(lista)\n",
        "    media = suma / len(lista)\n",
        "    return media\n",
        "\n",
        "def mediana(lista):\n",
        "    lista_ordenada = sorted(lista)\n",
        "    n = len(lista_ordenada)\n",
        "\n",
        "    if n % 2 == 0:\n",
        "\n",
        "        medio1 = lista_ordenada[n // 2]\n",
        "        medio2 = lista_ordenada[n // 2 - 1]\n",
        "        mediana = (medio1 + medio2) / 2\n",
        "    else:\n",
        "\n",
        "        mediana = lista_ordenada[n // 2]\n",
        "\n",
        "    return mediana\n",
        "\n",
        "if __name__ == \"__main__\":\n",
        "    lista_numeros = [69, 2, 9, 13, 7, 6, 55, 21, 30]\n",
        "\n",
        "    media = media(lista_numeros)\n",
        "    mediana = mediana(lista_numeros)\n",
        "\n",
        "    print(\"Numeros de la lisat:\", lista_numeros)\n",
        "    print(\"La media:\", media)\n",
        "    print(\"La mediana:\", mediana)\n"
      ],
      "metadata": {
        "colab": {
          "base_uri": "https://localhost:8080/"
        },
        "id": "x09xJuvaaEr-",
        "outputId": "dfdac5be-7bb2-40b5-f57c-536e1647175b"
      },
      "execution_count": null,
      "outputs": [
        {
          "output_type": "stream",
          "name": "stdout",
          "text": [
            "Numeros de la lisat: [69, 2, 9, 13, 7, 6, 55, 21, 30]\n",
            "La media: 23.555555555555557\n",
            "La mediana: 13\n"
          ]
        }
      ]
    }
  ]
}