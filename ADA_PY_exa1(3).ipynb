{
  "nbformat": 4,
  "nbformat_minor": 0,
  "metadata": {
    "colab": {
      "provenance": [],
      "authorship_tag": "ABX9TyOXrmA+BSkJYsP9VEAAMXr0",
      "include_colab_link": true
    },
    "kernelspec": {
      "name": "python3",
      "display_name": "Python 3"
    },
    "language_info": {
      "name": "python"
    }
  },
  "cells": [
    {
      "cell_type": "markdown",
      "metadata": {
        "id": "view-in-github",
        "colab_type": "text"
      },
      "source": [
        "<a href=\"https://colab.research.google.com/github/Andresayon/Ph/blob/main/ADA_PY_exa1(3).ipynb\" target=\"_parent\"><img src=\"https://colab.research.google.com/assets/colab-badge.svg\" alt=\"Open In Colab\"/></a>"
      ]
    },
    {
      "cell_type": "markdown",
      "source": [
        "funcion que retorne un diccionario con los datos basicos de un alumno (pedir al usuario y validar)"
      ],
      "metadata": {
        "id": "BBfeRo_u7uHh"
      }
    },
    {
      "cell_type": "code",
      "source": [
        "def obtener_datos_alumno():\n",
        "    datos_alumno = {}\n",
        "\n",
        "    # Solicitar al usuario que ingrese los datos\n",
        "    datos_alumno['nombre'] = input(\"Digite el nombre del alumno: \").strip()\n",
        "    datos_alumno['edad'] = validar_entero(\"Digite la edad del alumno: \")\n",
        "    datos_alumno['estatus'] = validar_estatus(\"Digite el estatus del alumno (1 para activo, 2 para inactivo): \")\n",
        "\n",
        "    return datos_alumno\n",
        "\n",
        "def validar_entero(mensaje):\n",
        "    while True:\n",
        "        try:\n",
        "            valor = int(input(mensaje))\n",
        "            return valor\n",
        "        except ValueError:\n",
        "            print(\"Tiene que ser una edad\")\n",
        "\n",
        "def validar_estatus(mensaje):\n",
        "    while True:\n",
        "        try:\n",
        "            valor = int(input(mensaje))\n",
        "            if valor in (1, 2):\n",
        "                return valor\n",
        "            else:\n",
        "                print(\"Debe ser 1 para activo y 2 para inactivod\")\n",
        "        except ValueError:\n",
        "            print(\"Digite algo valido\")\n",
        "\n",
        "\n",
        "datos_del_alumno = obtener_datos_alumno()\n",
        "\n",
        "print(\"\\nDatos del alumno\")\n",
        "for clave, valor in datos_del_alumno.items():\n",
        "    print(f\"{clave.capitalize()}: {valor}\")\n"
      ],
      "metadata": {
        "colab": {
          "base_uri": "https://localhost:8080/"
        },
        "id": "fnHKjrjE7uu4",
        "outputId": "072a15a1-7438-4ade-f140-45dc0d0643c5"
      },
      "execution_count": 3,
      "outputs": [
        {
          "output_type": "stream",
          "name": "stdout",
          "text": [
            "Digite el nombre del alumno: andres\n",
            "Digite la edad del alumno: 21\n",
            "Digite el estatus del alumno (1 para activo, 2 para inactivo): 1\n",
            "\n",
            "Datos del alumno\n",
            "Nombre: andres\n",
            "Edad: 21\n",
            "Estatus: 1\n"
          ]
        }
      ]
    }
  ]
}